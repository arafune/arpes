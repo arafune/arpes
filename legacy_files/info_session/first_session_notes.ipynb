{
 "cells": [
  {
   "cell_type": "code",
   "execution_count": 263,
   "metadata": {},
   "outputs": [],
   "source": [
    "%matplotlib inline\n",
    "from math import log\n",
    "from arpes.analysis.band_analysis_utils import param_getter, param_stderr_getter"
   ]
  },
  {
   "cell_type": "markdown",
   "metadata": {},
   "source": [
    "# Introduction to Python\n",
    "\n",
    "You can follow along even if you don't have the ARPES code installed, just open your system Python,\n",
    "or go to [goo.gl/hXA8by](goo.gl/hXA8by)\n",
    "\n",
    "# Agenda\n",
    "\n",
    "## Getting started\n",
    "1. Why consider Python?\n",
    "2. Introduction to the ethos (zen) of Python\n",
    "3. Refresher on data + working in Python\n",
    "\n",
    "## ARPES Analysis\n",
    "\n",
    "1. How to load and prep data (moments of brief terminal usage)\n",
    "2. Data exploration\n",
    "3. Curve fitting\n",
    "4. Comparing data\n",
    "5. Producing figures\n",
    "6. Walkthrough of code structure, contributing, etc."
   ]
  },
  {
   "cell_type": "markdown",
   "metadata": {},
   "source": [
    "# Why Python?\n",
    "\n",
    "1. Industry standard for data science ([https://goo.gl/VPTDJF](https://goo.gl/VPTDJF)) and software generally\n",
    "2. 130,000+ user contributed packages\n",
    "3. Simple: \"Language fits in your head\"\n",
    "4. Mature software with lots of financial support\n",
    "5. Free"
   ]
  },
  {
   "cell_type": "code",
   "execution_count": 86,
   "metadata": {},
   "outputs": [
    {
     "name": "stdout",
     "output_type": "stream",
     "text": [
      "The Zen of Python, by Tim Peters\n",
      "\n",
      "Beautiful is better than ugly.\n",
      "Explicit is better than implicit.\n",
      "Simple is better than complex.\n",
      "Complex is better than complicated.\n",
      "Flat is better than nested.\n",
      "Sparse is better than dense.\n",
      "Readability counts.\n",
      "Special cases aren't special enough to break the rules.\n",
      "Although practicality beats purity.\n",
      "Errors should never pass silently.\n",
      "Unless explicitly silenced.\n",
      "In the face of ambiguity, refuse the temptation to guess.\n",
      "There should be one-- and preferably only one --obvious way to do it.\n",
      "Although that way may not be obvious at first unless you're Dutch.\n",
      "Now is better than never.\n",
      "Although never is often better than *right* now.\n",
      "If the implementation is hard to explain, it's a bad idea.\n",
      "If the implementation is easy to explain, it may be a good idea.\n",
      "Namespaces are one honking great idea -- let's do more of those!\n"
     ]
    }
   ],
   "source": [
    "import this"
   ]
  },
  {
   "cell_type": "markdown",
   "metadata": {},
   "source": [
    "### Maxims\n",
    "\n",
    "1. Simple is better than complex\n",
    "2. Special cases aren't special enough to break the rules\n",
    "3. There should be one--and preferably only one--obvious way to do it\n",
    "\n",
    "You can use these as rules to keep a level head as you explore Python"
   ]
  },
  {
   "cell_type": "markdown",
   "metadata": {},
   "source": [
    "## Strings + Numbers"
   ]
  },
  {
   "cell_type": "code",
   "execution_count": 87,
   "metadata": {},
   "outputs": [
    {
     "data": {
      "text/plain": [
       "4"
      ]
     },
     "execution_count": 87,
     "metadata": {},
     "output_type": "execute_result"
    }
   ],
   "source": [
    "# simple math\n",
    "2 + 2"
   ]
  },
  {
   "cell_type": "code",
   "execution_count": 283,
   "metadata": {},
   "outputs": [
    {
     "name": "stdout",
     "output_type": "stream",
     "text": [
      "1606938044258990275541962092341162602522202993782792835301376\n",
      "1.6069380442589903e+60\n"
     ]
    }
   ],
   "source": [
    "# differences between float and int math\n",
    "print(2 ** 200)\n",
    "print(2. ** 200)"
   ]
  },
  {
   "cell_type": "code",
   "execution_count": 100,
   "metadata": {},
   "outputs": [
    {
     "data": {
      "text/plain": [
       "1.6069380442589903e+60"
      ]
     },
     "execution_count": 100,
     "metadata": {},
     "output_type": "execute_result"
    }
   ],
   "source": [
    "2. ** 200"
   ]
  },
  {
   "cell_type": "code",
   "execution_count": 93,
   "metadata": {},
   "outputs": [
    {
     "data": {
      "text/plain": [
       "0.6"
      ]
     },
     "execution_count": 93,
     "metadata": {},
     "output_type": "execute_result"
    }
   ],
   "source": [
    "# division\n",
    "3 / 5"
   ]
  },
  {
   "cell_type": "code",
   "execution_count": 103,
   "metadata": {},
   "outputs": [
    {
     "data": {
      "text/plain": [
       "int"
      ]
     },
     "execution_count": 103,
     "metadata": {},
     "output_type": "execute_result"
    }
   ],
   "source": [
    "# you can inspect the type of data with the `type` function\n",
    "type(2)"
   ]
  },
  {
   "cell_type": "code",
   "execution_count": 104,
   "metadata": {},
   "outputs": [
    {
     "data": {
      "text/plain": [
       "float"
      ]
     },
     "execution_count": 104,
     "metadata": {},
     "output_type": "execute_result"
    }
   ],
   "source": [
    "type(2.)"
   ]
  },
  {
   "cell_type": "code",
   "execution_count": 105,
   "metadata": {},
   "outputs": [
    {
     "data": {
      "text/plain": [
       "4.0"
      ]
     },
     "execution_count": 105,
     "metadata": {},
     "output_type": "execute_result"
    }
   ],
   "source": [
    "2 + 2."
   ]
  },
  {
   "cell_type": "code",
   "execution_count": 109,
   "metadata": {},
   "outputs": [
    {
     "data": {
      "text/plain": [
       "(3-4j)"
      ]
     },
     "execution_count": 109,
     "metadata": {},
     "output_type": "execute_result"
    }
   ],
   "source": [
    "# complex numbers available\n",
    "j = 5\n",
    "(3 + 4j).conjugate()\n",
    "# conjugate"
   ]
  },
  {
   "cell_type": "code",
   "execution_count": 285,
   "metadata": {},
   "outputs": [
    {
     "name": "stdout",
     "output_type": "stream",
     "text": [
      "my stringanother one\n",
      "my stringmy stringmy stringmy stringmy string\n"
     ]
    }
   ],
   "source": [
    "# math with strings\n",
    "s = \"my string\"\n",
    "t = 'another one' \n",
    "# addition\n",
    "print(s + t)\n",
    "# multiplication\n",
    "print(s * 5)"
   ]
  },
  {
   "cell_type": "code",
   "execution_count": 286,
   "metadata": {},
   "outputs": [
    {
     "name": "stdout",
     "output_type": "stream",
     "text": [
      "3\n",
      "2\n"
     ]
    },
    {
     "data": {
      "text/plain": [
       "3"
      ]
     },
     "execution_count": 286,
     "metadata": {},
     "output_type": "execute_result"
    }
   ],
   "source": [
    "# conversion\n",
    "from math import ceil, floor # <- imports these names out of the module 'math' can also do\n",
    "# import math; math.ceil(2.51)\n",
    "print(ceil(2.51))\n",
    "print(floor(2.51))\n",
    "round(2.51)"
   ]
  },
  {
   "cell_type": "markdown",
   "metadata": {},
   "source": [
    "## Collections"
   ]
  },
  {
   "cell_type": "code",
   "execution_count": 290,
   "metadata": {},
   "outputs": [
    {
     "data": {
      "text/plain": [
       "'Veggies'"
      ]
     },
     "execution_count": 290,
     "metadata": {},
     "output_type": "execute_result"
    }
   ],
   "source": [
    "# lists <-> Core abstraction for index collection of data\n",
    "\n",
    "crazy_shopping_list = [\"Veggies\", 3.14159265, [\"Milk\", \"Butter\", \"Eggs\"]]\n",
    "\n",
    "# Note: lists are \"dynamically\" typed\n",
    "# Note also: zero indexing\n",
    "crazy_shopping_list[0]"
   ]
  },
  {
   "cell_type": "code",
   "execution_count": 291,
   "metadata": {},
   "outputs": [
    {
     "data": {
      "text/plain": [
       "3.14159265"
      ]
     },
     "execution_count": 291,
     "metadata": {},
     "output_type": "execute_result"
    }
   ],
   "source": [
    "# Need some way of getting stuff out too!\n",
    "# You can think of lists like mailboxes:\n",
    "# crazy_shopping_list:\n",
    "#  ____________________________________________________\n",
    "# |     0     |     1      |            2             |\n",
    "# -----------------------------------------------------\n",
    "# | \"Veggies\" | 3.14159265 |[\"Milk\", \"Butter\", \"Eggs\"]|\n",
    "# -----------------------------------------------------\n",
    "\n",
    "crazy_shopping_list[1]"
   ]
  },
  {
   "cell_type": "code",
   "execution_count": 292,
   "metadata": {},
   "outputs": [],
   "source": [
    "# strings act kinda like lists too"
   ]
  },
  {
   "cell_type": "code",
   "execution_count": 293,
   "metadata": {},
   "outputs": [
    {
     "data": {
      "text/plain": [
       "'Graduate Student'"
      ]
     },
     "execution_count": 293,
     "metadata": {},
     "output_type": "execute_result"
    }
   ],
   "source": [
    "# dictionaries\n",
    "lab_roles = {\n",
    "    'Claudia': 'Postdoc',\n",
    "    'Sam': 'Graduate Student',\n",
    "    'Bruin': 'Undergraduate',\n",
    "}\n",
    "lab_roles['Sam']"
   ]
  },
  {
   "cell_type": "code",
   "execution_count": 297,
   "metadata": {},
   "outputs": [
    {
     "data": {
      "text/plain": [
       "'Some kinda human.'"
      ]
     },
     "execution_count": 297,
     "metadata": {},
     "output_type": "execute_result"
    }
   ],
   "source": [
    "# Lookups with defaults\n",
    "\n",
    "#             Look for       default\n",
    "lab_roles.get('Conrad', 'Some kinda human.')"
   ]
  },
  {
   "cell_type": "code",
   "execution_count": 308,
   "metadata": {},
   "outputs": [
    {
     "data": {
      "text/plain": [
       "[2, 4, 6]"
      ]
     },
     "execution_count": 308,
     "metadata": {},
     "output_type": "execute_result"
    }
   ],
   "source": [
    "# simple data transformations + data comprehensions\n",
    "\n",
    "# Idea is same as set comprehension in mathematics\n",
    "\n",
    "# [rule to produce new data <- initial data]\n",
    "\n",
    "# structure:\n",
    "# [rule(value) for value in list_of_values]\n",
    "\n",
    "# Simple example:\n",
    "[2 * x for x in [1, 2, 3]]"
   ]
  },
  {
   "cell_type": "code",
   "execution_count": 309,
   "metadata": {},
   "outputs": [
    {
     "name": "stdout",
     "output_type": "stream",
     "text": [
      "['0', '1', '2', '3', '4', '5', '6', '7', '8', '9', '10', '11', '12', '13', '14', '15', '16', '17', '18', '19']\n",
      "[1, 1, 1, 1, 2, 2, 2, 3, 3, 3, 4, 4, 4, 4, 5, 5, 5, 6, 6, 6, 7, 7, 7, 7, 8, 8, 8, 9, 9, 9, 10, 10, 10, 10, 11, 11, 11, 12, 12, 12, 13, 13, 13, 13, 14, 14, 14, 15, 15, 15, 16, 16, 16, 16, 17, 17, 17, 18, 18, 18, 19, 19, 19, 19, 20, 20, 20, 21, 21, 21, 22, 22, 22, 22, 23, 23, 23, 24, 24, 24, 25, 25, 25, 25, 26, 26, 26, 27, 27, 27, 28, 28, 28, 28, 29, 29, 29, 30, 30, 30, 31, 31, 31, 32, 32, 32, 32, 33, 33, 33, 34, 34, 34, 35, 35, 35, 35, 36, 36, 36, 37, 37, 37, 38, 38, 38, 38, 39, 39, 39, 40, 40, 40, 41, 41, 41, 41, 42, 42, 42, 43, 43, 43, 44, 44, 44, 44, 45, 45, 45, 46, 46, 46, 47, 47, 47, 47, 48, 48, 48, 49, 49, 49, 50, 50, 50, 50, 51, 51, 51, 52, 52, 52, 53, 53, 53, 53, 54, 54, 54, 55, 55, 55, 56, 56, 56, 56, 57, 57, 57, 58, 58, 58, 59, 59, 59, 60, 60, 60, 60, 61, 61, 61, 62, 62, 62, 63, 63, 63, 63, 64, 64, 64, 65, 65, 65, 66, 66, 66, 66, 67, 67, 67, 68, 68, 68, 69, 69, 69, 69, 70, 70, 70, 71, 71, 71, 72, 72, 72, 72, 73, 73, 73, 74, 74, 74, 75, 75, 75, 75, 76, 76, 76, 77, 77, 77, 78, 78, 78, 78, 79, 79, 79, 80, 80, 80, 81, 81, 81, 81, 82, 82, 82, 83, 83, 83, 84, 84, 84, 84, 85, 85, 85, 86, 86, 86, 87, 87, 87, 87, 88, 88, 88, 89, 89, 89, 90, 90, 90, 91, 91, 91, 91, 92, 92, 92, 93, 93, 93, 94, 94, 94, 94, 95, 95, 95, 96, 96, 96, 97, 97, 97, 97, 98, 98, 98, 99, 99, 99, 100, 100, 100, 100, 101, 101, 101, 102, 102, 102, 103, 103, 103, 103, 104, 104, 104, 105, 105, 105, 106, 106, 106, 106, 107, 107, 107, 108, 108, 108, 109, 109, 109, 109, 110, 110, 110, 111, 111, 111, 112, 112, 112, 112, 113, 113, 113, 114, 114, 114, 115, 115, 115, 115, 116, 116, 116, 117, 117, 117, 118, 118, 118, 119, 119, 119, 119, 120, 120, 120, 121, 121, 121, 122, 122, 122, 122, 123, 123, 123, 124, 124, 124, 125, 125, 125, 125, 126, 126, 126, 127, 127, 127, 128, 128, 128, 128, 129, 129, 129, 130, 130, 130, 131, 131, 131, 131, 132, 132, 132, 133, 133, 133, 134, 134, 134, 134, 135, 135, 135, 136, 136, 136, 137, 137, 137, 137, 138, 138, 138, 139, 139, 139, 140, 140, 140, 140, 141, 141, 141, 142, 142, 142, 143, 143, 143, 143, 144, 144, 144, 145, 145, 145, 146, 146, 146, 146, 147, 147, 147, 148, 148, 148, 149, 149, 149, 150, 150, 150, 150, 151, 151, 151, 152, 152, 152, 153, 153, 153, 153, 154, 154, 154, 155, 155, 155, 156, 156, 156, 156, 157, 157, 157, 158, 158, 158, 159, 159, 159, 159, 160, 160, 160, 161, 161, 161, 162, 162, 162, 162, 163, 163, 163, 164, 164, 164, 165, 165, 165, 165, 166, 166, 166, 167, 167, 167, 168, 168, 168, 168, 169, 169, 169, 170, 170, 170, 171, 171, 171, 171, 172, 172, 172, 173, 173, 173, 174, 174, 174, 174, 175, 175, 175, 176, 176, 176, 177, 177, 177, 178, 178, 178, 178, 179, 179, 179, 180, 180, 180, 181, 181, 181, 181, 182, 182, 182, 183, 183, 183, 184, 184, 184, 184, 185, 185, 185, 186, 186, 186, 187, 187, 187, 187, 188, 188, 188, 189, 189, 189, 190, 190, 190, 190, 191, 191, 191, 192, 192, 192, 193, 193, 193, 193, 194, 194, 194, 195, 195, 195, 196, 196, 196, 196, 197, 197, 197, 198, 198, 198, 199, 199, 199, 199, 200, 200, 200, 201, 201, 201, 202, 202, 202, 202, 203, 203, 203, 204, 204, 204, 205, 205, 205, 206, 206, 206, 206, 207, 207, 207, 208, 208, 208, 209, 209, 209, 209, 210, 210, 210, 211, 211, 211, 212, 212, 212, 212, 213, 213, 213, 214, 214, 214, 215, 215, 215, 215, 216, 216, 216, 217, 217, 217, 218, 218, 218, 218, 219, 219, 219, 220, 220, 220, 221, 221, 221, 221, 222, 222, 222, 223, 223, 223, 224, 224, 224, 224, 225, 225, 225, 226, 226, 226, 227, 227, 227, 227, 228, 228, 228, 229, 229, 229, 230, 230, 230, 230, 231, 231, 231, 232, 232, 232, 233, 233, 233, 233, 234, 234, 234, 235, 235, 235, 236, 236, 236, 237, 237, 237, 237, 238, 238, 238, 239, 239, 239, 240, 240, 240, 240, 241, 241, 241, 242, 242, 242, 243, 243, 243, 243, 244, 244, 244, 245, 245, 245, 246, 246, 246, 246, 247, 247, 247, 248, 248, 248, 249, 249, 249, 249, 250, 250, 250, 251, 251, 251, 252, 252, 252, 252, 253, 253, 253, 254, 254, 254, 255, 255, 255, 255, 256, 256, 256, 257, 257, 257, 258, 258, 258, 258, 259, 259, 259, 260, 260, 260, 261, 261, 261, 261, 262, 262, 262, 263, 263, 263, 264, 264, 264, 265, 265, 265, 265, 266, 266, 266, 267, 267, 267, 268, 268, 268, 268, 269, 269, 269, 270, 270, 270, 271, 271, 271, 271, 272, 272, 272, 273, 273, 273, 274, 274, 274, 274, 275, 275, 275, 276, 276, 276, 277, 277, 277, 277, 278, 278, 278, 279, 279, 279, 280, 280, 280, 280, 281, 281, 281, 282, 282, 282, 283, 283, 283, 283, 284, 284, 284, 285, 285, 285, 286, 286, 286, 286, 287, 287, 287, 288, 288, 288, 289, 289, 289, 289, 290, 290, 290, 291, 291, 291, 292, 292, 292, 292, 293, 293, 293, 294, 294, 294, 295, 295, 295, 296, 296, 296, 296, 297, 297, 297, 298, 298, 298, 299, 299, 299, 299, 300, 300, 300, 301, 301, 301]\n"
     ]
    }
   ],
   "source": [
    "# Q. Convert list of numbers to strings\n",
    "print([str(x) for x in range(20)])\n",
    "# Q. How long is the representation of 2 ^ j for j = 1 .. 1000?\n",
    "print([len(str(2 ** x)) for x in range(1000)])"
   ]
  },
  {
   "cell_type": "code",
   "execution_count": 298,
   "metadata": {},
   "outputs": [
    {
     "ename": "IndexError",
     "evalue": "list index out of range",
     "output_type": "error",
     "traceback": [
      "\u001b[0;31m---------------------------------------------------------------------------\u001b[0m",
      "\u001b[0;31mIndexError\u001b[0m                                Traceback (most recent call last)",
      "\u001b[0;32m<ipython-input-298-f582aa4f8cb1>\u001b[0m in \u001b[0;36m<module>\u001b[0;34m()\u001b[0m\n\u001b[1;32m      1\u001b[0m \u001b[0;31m# Out of bounds for lists\u001b[0m\u001b[0;34m\u001b[0m\u001b[0;34m\u001b[0m\u001b[0m\n\u001b[1;32m      2\u001b[0m \u001b[0mtest\u001b[0m \u001b[0;34m=\u001b[0m \u001b[0;34m[\u001b[0m\u001b[0;36m1\u001b[0m\u001b[0;34m]\u001b[0m\u001b[0;34m\u001b[0m\u001b[0m\n\u001b[0;32m----> 3\u001b[0;31m \u001b[0mtest\u001b[0m\u001b[0;34m[\u001b[0m\u001b[0;36m2\u001b[0m\u001b[0;34m]\u001b[0m\u001b[0;34m\u001b[0m\u001b[0m\n\u001b[0m",
      "\u001b[0;31mIndexError\u001b[0m: list index out of range"
     ]
    }
   ],
   "source": [
    "# Out of bounds for lists\n",
    "test = [1]\n",
    "test[2]"
   ]
  },
  {
   "cell_type": "code",
   "execution_count": 299,
   "metadata": {},
   "outputs": [
    {
     "ename": "KeyError",
     "evalue": "'Conrad'",
     "output_type": "error",
     "traceback": [
      "\u001b[0;31m---------------------------------------------------------------------------\u001b[0m",
      "\u001b[0;31mKeyError\u001b[0m                                  Traceback (most recent call last)",
      "\u001b[0;32m<ipython-input-299-28403c441890>\u001b[0m in \u001b[0;36m<module>\u001b[0;34m()\u001b[0m\n\u001b[1;32m      1\u001b[0m \u001b[0;31m# Out of bounds for dictionaries\u001b[0m\u001b[0;34m\u001b[0m\u001b[0;34m\u001b[0m\u001b[0m\n\u001b[1;32m      2\u001b[0m \u001b[0;34m\u001b[0m\u001b[0m\n\u001b[0;32m----> 3\u001b[0;31m \u001b[0mlab_roles\u001b[0m\u001b[0;34m[\u001b[0m\u001b[0;34m'Conrad'\u001b[0m\u001b[0;34m]\u001b[0m\u001b[0;34m\u001b[0m\u001b[0m\n\u001b[0m",
      "\u001b[0;31mKeyError\u001b[0m: 'Conrad'"
     ]
    }
   ],
   "source": [
    "# Out of bounds for dictionaries\n",
    "lab_roles['Conrad']"
   ]
  },
  {
   "cell_type": "code",
   "execution_count": 302,
   "metadata": {},
   "outputs": [
    {
     "name": "stdout",
     "output_type": "stream",
     "text": [
      "19\n",
      "[19, 18, 17, 16, 15, 14, 13, 12, 11, 10, 9, 8, 7, 6, 5, 4, 3, 2, 1, 0]\n"
     ]
    }
   ],
   "source": [
    "# Try out indexing with negative numbers\n",
    "another_list = list(range(20)) # 0, 1, ... 18, 19\n",
    "print(another_list[-1])\n",
    "print(another_list[::-1])"
   ]
  },
  {
   "cell_type": "markdown",
   "metadata": {},
   "source": [
    "## Modules"
   ]
  },
  {
   "cell_type": "code",
   "execution_count": 150,
   "metadata": {},
   "outputs": [],
   "source": [
    "# arpes.analysis.band_analysis.fit_patterned_bands\n",
    "from math import ceil"
   ]
  },
  {
   "cell_type": "markdown",
   "metadata": {},
   "source": [
    "### Plenty of useful modules\n",
    "\n",
    "```\n",
    "math, collections, functools, itertools, os, sys, time\n",
    "```\n",
    "\n",
    "Many more written by users/scientific groups:\n",
    "\n",
    "```\n",
    "scipy, numpy, matplotlib, etc...\n",
    "```"
   ]
  },
  {
   "cell_type": "markdown",
   "metadata": {},
   "source": [
    "# Interlude: Where to get Help?\n",
    "\n",
    "### By declining merit:\n",
    "\n",
    "1. Humans\n",
    "2. Interactive Python session (play with the data)\n",
    "3. `help()`\n",
    "4. StackOverflow/Google\n",
    "5. python.org/doc"
   ]
  },
  {
   "cell_type": "markdown",
   "metadata": {},
   "source": [
    "# Functions"
   ]
  },
  {
   "cell_type": "code",
   "execution_count": 156,
   "metadata": {},
   "outputs": [
    {
     "data": {
      "text/plain": [
       "['This is a sen', 'ence.']"
      ]
     },
     "execution_count": 156,
     "metadata": {},
     "output_type": "execute_result"
    }
   ],
   "source": [
    "# Ways of organizing functionality\n",
    "# Defining them\n",
    "'This is a sentence.'.split('t')"
   ]
  },
  {
   "cell_type": "code",
   "execution_count": 165,
   "metadata": {},
   "outputs": [],
   "source": [
    "# Calling them\n",
    "def f(a):\n",
    "    return a + 2"
   ]
  },
  {
   "cell_type": "code",
   "execution_count": 168,
   "metadata": {},
   "outputs": [
    {
     "data": {
      "text/plain": [
       "9"
      ]
     },
     "execution_count": 168,
     "metadata": {},
     "output_type": "execute_result"
    }
   ],
   "source": [
    "my_val = f(5)\n",
    "my_val + 2"
   ]
  },
  {
   "cell_type": "code",
   "execution_count": 176,
   "metadata": {},
   "outputs": [],
   "source": [
    "# Keyword arguments\n",
    "\n",
    "def tries_FLT(n=2, a=0, b=0, c=0):\n",
    "    if not isinstance(n, int):\n",
    "        print('Not fair.')\n",
    "        return\n",
    "    if a**n + b**n == c**n:\n",
    "        if n > 2:\n",
    "            print(\"WHAT!!?!!??!\")\n",
    "            print(\"Oh... abc = \" + str(a * b * c))\n",
    "        elif n == 2:\n",
    "            print(\"Congratulations... who do you think you are, Pythagoras?\")\n",
    "        else:\n",
    "            print(\"So you can add...\")\n",
    "    else:\n",
    "        print(\"Sorry!\")"
   ]
  },
  {
   "cell_type": "code",
   "execution_count": 177,
   "metadata": {},
   "outputs": [
    {
     "name": "stdout",
     "output_type": "stream",
     "text": [
      "Not fair.\n"
     ]
    }
   ],
   "source": [
    "# some test cases:\n",
    "tries_FLT(n=4.2, a=3, b=0, c=3)"
   ]
  },
  {
   "cell_type": "markdown",
   "metadata": {},
   "source": [
    "# ARPES"
   ]
  },
  {
   "cell_type": "code",
   "execution_count": 312,
   "metadata": {},
   "outputs": [],
   "source": [
    "# Showing datasets\n",
    "CONFIG['WORKSPACE'] = 'ptype_fluence' # set workspace if needed"
   ]
  },
  {
   "cell_type": "code",
   "execution_count": 311,
   "metadata": {},
   "outputs": [
    {
     "name": "stderr",
     "output_type": "stream",
     "text": [
      "WARNING:root:Assuming sort along index\n"
     ]
    },
    {
     "data": {
      "text/html": [
       "<div>\n",
       "<style>\n",
       "    .dataframe thead tr:only-child th {\n",
       "        text-align: right;\n",
       "    }\n",
       "\n",
       "    .dataframe thead th {\n",
       "        text-align: left;\n",
       "    }\n",
       "\n",
       "    .dataframe tbody tr th {\n",
       "        vertical-align: top;\n",
       "    }\n",
       "</style>\n",
       "<table border=\"1\" class=\"dataframe\">\n",
       "  <thead>\n",
       "    <tr style=\"text-align: right;\">\n",
       "      <th></th>\n",
       "      <th>#_frames</th>\n",
       "      <th>beta_abd</th>\n",
       "      <th>binding_energy</th>\n",
       "      <th>delay</th>\n",
       "      <th>id</th>\n",
       "      <th>location</th>\n",
       "      <th>pass_energy</th>\n",
       "      <th>path</th>\n",
       "      <th>phi</th>\n",
       "      <th>photo_current</th>\n",
       "      <th>...</th>\n",
       "      <th>slit_#</th>\n",
       "      <th>spectrum_type</th>\n",
       "      <th>temperature</th>\n",
       "      <th>theta</th>\n",
       "      <th>time</th>\n",
       "      <th>x</th>\n",
       "      <th>y</th>\n",
       "      <th>z</th>\n",
       "      <th>ref_map</th>\n",
       "      <th>ref_id</th>\n",
       "    </tr>\n",
       "    <tr>\n",
       "      <th>file</th>\n",
       "      <th></th>\n",
       "      <th></th>\n",
       "      <th></th>\n",
       "      <th></th>\n",
       "      <th></th>\n",
       "      <th></th>\n",
       "      <th></th>\n",
       "      <th></th>\n",
       "      <th></th>\n",
       "      <th></th>\n",
       "      <th></th>\n",
       "      <th></th>\n",
       "      <th></th>\n",
       "      <th></th>\n",
       "      <th></th>\n",
       "      <th></th>\n",
       "      <th></th>\n",
       "      <th></th>\n",
       "      <th></th>\n",
       "      <th></th>\n",
       "      <th></th>\n",
       "    </tr>\n",
       "  </thead>\n",
       "  <tbody>\n",
       "    <tr>\n",
       "      <th>27</th>\n",
       "      <td>100</td>\n",
       "      <td>0</td>\n",
       "      <td>0.2</td>\n",
       "      <td>100ps</td>\n",
       "      <td>126bd4b4-39f3-11e8-bbf7-6c40088ef8e6</td>\n",
       "      <td>MC</td>\n",
       "      <td>5</td>\n",
       "      <td>/Users/chstansbury/Research/lanzara/data/ptype...</td>\n",
       "      <td>32</td>\n",
       "      <td>NaN</td>\n",
       "      <td>...</td>\n",
       "      <td>1</td>\n",
       "      <td>dataset</td>\n",
       "      <td>270.0</td>\n",
       "      <td>-5</td>\n",
       "      <td>NaN</td>\n",
       "      <td>-0.353</td>\n",
       "      <td>41.073</td>\n",
       "      <td>1.398</td>\n",
       "      <td></td>\n",
       "      <td></td>\n",
       "    </tr>\n",
       "    <tr>\n",
       "      <th>28</th>\n",
       "      <td>100</td>\n",
       "      <td>0</td>\n",
       "      <td>0.2</td>\n",
       "      <td>100ps</td>\n",
       "      <td>1270a946-39f3-11e8-bd1e-6c40088ef8e6</td>\n",
       "      <td>MC</td>\n",
       "      <td>5</td>\n",
       "      <td>/Users/chstansbury/Research/lanzara/data/ptype...</td>\n",
       "      <td>32</td>\n",
       "      <td>NaN</td>\n",
       "      <td>...</td>\n",
       "      <td>1</td>\n",
       "      <td>dataset</td>\n",
       "      <td>111.0</td>\n",
       "      <td>-5</td>\n",
       "      <td>NaN</td>\n",
       "      <td>-0.353</td>\n",
       "      <td>41.073</td>\n",
       "      <td>1.398</td>\n",
       "      <td></td>\n",
       "      <td></td>\n",
       "    </tr>\n",
       "    <tr>\n",
       "      <th>29</th>\n",
       "      <td>50</td>\n",
       "      <td>0</td>\n",
       "      <td>0.2</td>\n",
       "      <td>-200:10:800ps</td>\n",
       "      <td>12713918-39f3-11e8-8f1e-6c40088ef8e6</td>\n",
       "      <td>MC</td>\n",
       "      <td>5</td>\n",
       "      <td>/Users/chstansbury/Research/lanzara/data/ptype...</td>\n",
       "      <td>32</td>\n",
       "      <td>NaN</td>\n",
       "      <td>...</td>\n",
       "      <td>1</td>\n",
       "      <td>dataset</td>\n",
       "      <td>84.0</td>\n",
       "      <td>-5</td>\n",
       "      <td>NaN</td>\n",
       "      <td>-1.085</td>\n",
       "      <td>41.250</td>\n",
       "      <td>1.406</td>\n",
       "      <td></td>\n",
       "      <td></td>\n",
       "    </tr>\n",
       "    <tr>\n",
       "      <th>30</th>\n",
       "      <td>50</td>\n",
       "      <td>0</td>\n",
       "      <td>0.2</td>\n",
       "      <td>-200:10:800ps</td>\n",
       "      <td>1271cac2-39f3-11e8-bcd0-6c40088ef8e6</td>\n",
       "      <td>MC</td>\n",
       "      <td>5</td>\n",
       "      <td>/Users/chstansbury/Research/lanzara/data/ptype...</td>\n",
       "      <td>32</td>\n",
       "      <td>NaN</td>\n",
       "      <td>...</td>\n",
       "      <td>1</td>\n",
       "      <td>dataset</td>\n",
       "      <td>84.0</td>\n",
       "      <td>-5</td>\n",
       "      <td>NaN</td>\n",
       "      <td>-0.353</td>\n",
       "      <td>41.250</td>\n",
       "      <td>1.406</td>\n",
       "      <td></td>\n",
       "      <td></td>\n",
       "    </tr>\n",
       "    <tr>\n",
       "      <th>31</th>\n",
       "      <td>50</td>\n",
       "      <td>0</td>\n",
       "      <td>0.2</td>\n",
       "      <td>-200:10:800ps</td>\n",
       "      <td>1272b180-39f3-11e8-9ca5-6c40088ef8e6</td>\n",
       "      <td>MC</td>\n",
       "      <td>5</td>\n",
       "      <td>/Users/chstansbury/Research/lanzara/data/ptype...</td>\n",
       "      <td>32</td>\n",
       "      <td>NaN</td>\n",
       "      <td>...</td>\n",
       "      <td>1</td>\n",
       "      <td>dataset</td>\n",
       "      <td>84.0</td>\n",
       "      <td>-5</td>\n",
       "      <td>NaN</td>\n",
       "      <td>-0.353</td>\n",
       "      <td>41.250</td>\n",
       "      <td>1.406</td>\n",
       "      <td></td>\n",
       "      <td></td>\n",
       "    </tr>\n",
       "  </tbody>\n",
       "</table>\n",
       "<p>5 rows × 25 columns</p>\n",
       "</div>"
      ],
      "text/plain": [
       "      #_frames  beta_abd  binding_energy          delay  \\\n",
       "file                                                      \n",
       "27         100         0             0.2          100ps   \n",
       "28         100         0             0.2          100ps   \n",
       "29          50         0             0.2  -200:10:800ps   \n",
       "30          50         0             0.2  -200:10:800ps   \n",
       "31          50         0             0.2  -200:10:800ps   \n",
       "\n",
       "                                        id location  pass_energy  \\\n",
       "file                                                               \n",
       "27    126bd4b4-39f3-11e8-bbf7-6c40088ef8e6       MC            5   \n",
       "28    1270a946-39f3-11e8-bd1e-6c40088ef8e6       MC            5   \n",
       "29    12713918-39f3-11e8-8f1e-6c40088ef8e6       MC            5   \n",
       "30    1271cac2-39f3-11e8-bcd0-6c40088ef8e6       MC            5   \n",
       "31    1272b180-39f3-11e8-9ca5-6c40088ef8e6       MC            5   \n",
       "\n",
       "                                                   path  phi  photo_current  \\\n",
       "file                                                                          \n",
       "27    /Users/chstansbury/Research/lanzara/data/ptype...   32            NaN   \n",
       "28    /Users/chstansbury/Research/lanzara/data/ptype...   32            NaN   \n",
       "29    /Users/chstansbury/Research/lanzara/data/ptype...   32            NaN   \n",
       "30    /Users/chstansbury/Research/lanzara/data/ptype...   32            NaN   \n",
       "31    /Users/chstansbury/Research/lanzara/data/ptype...   32            NaN   \n",
       "\n",
       "       ...    slit_#  spectrum_type  temperature theta  time      x       y  \\\n",
       "file   ...                                                                    \n",
       "27     ...         1        dataset        270.0    -5   NaN -0.353  41.073   \n",
       "28     ...         1        dataset        111.0    -5   NaN -0.353  41.073   \n",
       "29     ...         1        dataset         84.0    -5   NaN -1.085  41.250   \n",
       "30     ...         1        dataset         84.0    -5   NaN -0.353  41.250   \n",
       "31     ...         1        dataset         84.0    -5   NaN -0.353  41.250   \n",
       "\n",
       "          z  ref_map  ref_id  \n",
       "file                          \n",
       "27    1.398                   \n",
       "28    1.398                   \n",
       "29    1.406                   \n",
       "30    1.406                   \n",
       "31    1.406                   \n",
       "\n",
       "[5 rows x 25 columns]"
      ]
     },
     "execution_count": 311,
     "metadata": {},
     "output_type": "execute_result"
    }
   ],
   "source": [
    "default_dataset().head() # just truncating output here"
   ]
  },
  {
   "cell_type": "code",
   "execution_count": 22,
   "metadata": {},
   "outputs": [],
   "source": [
    "# Conventions around where data goes\n",
    "# What if there's more than one spreadsheet?\n",
    "\n",
    "# For now talk to Conrad"
   ]
  },
  {
   "cell_type": "code",
   "execution_count": 314,
   "metadata": {},
   "outputs": [
    {
     "name": "stderr",
     "output_type": "stream",
     "text": [
      "WARNING:root:Assuming sort along index\n",
      "/Users/chstansbury/PycharmProjects/python-arpes/arpes/io.py:207: UserWarning:\n",
      "\n",
      "Could not fetch cleave information.\n",
      "\n"
     ]
    }
   ],
   "source": [
    "# Loading file 40 out of spectrum\n",
    "f40 = simple_load(40)"
   ]
  },
  {
   "cell_type": "code",
   "execution_count": 315,
   "metadata": {},
   "outputs": [
    {
     "data": {
      "text/plain": [
       "[<matplotlib.lines.Line2D at 0x135e14358>]"
      ]
     },
     "execution_count": 315,
     "metadata": {},
     "output_type": "execute_result"
    },
    {
     "data": {
      "image/png": "[encoded data removed]",
      "text/plain": [
       "<matplotlib.figure.Figure at 0x135a37b38>"
      ]
     },
     "metadata": {},
     "output_type": "display_data"
    }
   ],
   "source": [
    "# Plotting photocurrent\n",
    "f40.IG_nA.plot()"
   ]
  },
  {
   "cell_type": "code",
   "execution_count": 316,
   "metadata": {},
   "outputs": [
    {
     "data": {
      "text/plain": [
       "<xarray.Dataset>\n",
       "Dimensions:    (delay: 16, eV: 354, phi: 212)\n",
       "Coordinates:\n",
       "  * delay      (delay) float64 4.5 4.7 4.9 5.1 5.3 5.5 5.7 5.9 6.1 6.3 6.5 ...\n",
       "  * phi        (phi) float64 -0.6327 -0.6283 -0.624 -0.6196 -0.6152 -0.6109 ...\n",
       "  * eV         (eV) float64 -0.7214 -0.7159 -0.7104 -0.7049 -0.6995 -0.694 ...\n",
       "Data variables:\n",
       "    IG_nA      (delay) float64 1.0 1.0 1.0 1.0 1.0 1.0 1.0 1.0 1.0 1.0 1.0 ...\n",
       "    spectrum   (delay, phi, eV) float64 0.0 0.0 0.0 0.0 0.0 0.0 0.0 0.0 0.0 ...\n",
       "    time       (delay) float64 0.0 4.522e+03 8.751e+03 1.304e+04 1.747e+04 ...\n",
       "    delay-var  (delay) float64 4.294e+03 4.32e+03 4.431e+03 4.583e+03 ..."
      ]
     },
     "execution_count": 316,
     "metadata": {},
     "output_type": "execute_result"
    }
   ],
   "source": [
    "# Normalizing by photocurrent\n",
    "(f40 / f40.IG_nA)"
   ]
  },
  {
   "cell_type": "markdown",
   "metadata": {},
   "source": [
    "## Data exploration"
   ]
  },
  {
   "cell_type": "code",
   "execution_count": 318,
   "metadata": {},
   "outputs": [
    {
     "data": {
      "text/plain": [
       "<matplotlib.collections.QuadMesh at 0x130610780>"
      ]
     },
     "execution_count": 318,
     "metadata": {},
     "output_type": "execute_result"
    },
    {
     "data": {
      "image/png": "[encoded data removed]",
      "text/plain": [
       "<matplotlib.figure.Figure at 0x133ee26a0>"
      ]
     },
     "metadata": {},
     "output_type": "display_data"
    }
   ],
   "source": [
    "# Looking at data: .plot\n",
    "f40.spectrum.sum('delay').plot()"
   ]
  },
  {
   "cell_type": "code",
   "execution_count": 322,
   "metadata": {},
   "outputs": [
    {
     "name": "stdout",
     "output_type": "stream",
     "text": [
      "\n"
     ]
    }
   ],
   "source": [
    "# Selecting data\n",
    "\n",
    "# single slice\n",
    "f40.sel(delay=5, method='nearest')\n",
    "\n",
    "# range\n",
    "f40.sel(eV=slice(-0.3, 0.2)) # from -300 meV to 200 meV\n",
    "\n",
    "print()"
   ]
  },
  {
   "cell_type": "code",
   "execution_count": 326,
   "metadata": {},
   "outputs": [
    {
     "data": {
      "text/plain": [
       "[<matplotlib.lines.Line2D at 0x132650f28>]"
      ]
     },
     "execution_count": 326,
     "metadata": {},
     "output_type": "execute_result"
    },
    {
     "data": {
      "image/png": "[encoded data removed]",
      "text/plain": [
       "<matplotlib.figure.Figure at 0x13291c320>"
      ]
     },
     "metadata": {},
     "output_type": "display_data"
    }
   ],
   "source": [
    "# summing\n",
    "f40.sum('delay')\n",
    "\n",
    "f40.sum(['delay', 'phi']).spectrum.plot()"
   ]
  },
  {
   "cell_type": "code",
   "execution_count": 328,
   "metadata": {},
   "outputs": [
    {
     "data": {
      "text/plain": [
       "<matplotlib.collections.QuadMesh at 0x1366a73c8>"
      ]
     },
     "execution_count": 328,
     "metadata": {},
     "output_type": "execute_result"
    },
    {
     "data": {
      "image/png": "[encoded data removed]",
      "text/plain": [
       "<matplotlib.figure.Figure at 0x12a515940>"
      ]
     },
     "metadata": {},
     "output_type": "display_data"
    }
   ],
   "source": [
    "# transposing\n",
    "f40.sum('delay').spectrum.transpose()\n",
    "\n",
    "# can also specify axes\n",
    "\n",
    "f40.transpose('eV', 'phi', 'delay').sum('delay').spectrum.plot()"
   ]
  },
  {
   "cell_type": "code",
   "execution_count": 217,
   "metadata": {},
   "outputs": [
    {
     "data": {
      "application/vnd.bokehjs_exec.v0+json": "",
      "text/html": [
       "\n",
       "<script\n",
       "    src=\"http://localhost:57007/autoload.js?bokeh-autoload-element=7c50da0a-ec96-4c10-bacd-adce0fda8ced&bokeh-absolute-url=http://localhost:57007\"\n",
       "    id=\"7c50da0a-ec96-4c10-bacd-adce0fda8ced\"\n",
       "    data-bokeh-model-id=\"\"\n",
       "    data-bokeh-doc-id=\"\"\n",
       "></script>"
      ]
     },
     "metadata": {
      "application/vnd.bokehjs_exec.v0+json": {
       "server_id": "9bc66d97fd194641b630deabfa81997e"
      }
     },
     "output_type": "display_data"
    },
    {
     "data": {
      "text/plain": [
       "{'color_maps': {}, 'data': None, 'figures': {}, 'plots': {}, 'widgets': {}}"
      ]
     },
     "execution_count": 217,
     "metadata": {},
     "output_type": "execute_result"
    }
   ],
   "source": [
    "# Okay but really looking at data: .S.show\n",
    "(f40 / f40.IG_nA).spectrum.transpose('phi', 'eV', 'delay').S.show()"
   ]
  },
  {
   "cell_type": "code",
   "execution_count": 23,
   "metadata": {},
   "outputs": [],
   "source": [
    "# iterating and rebinning"
   ]
  },
  {
   "cell_type": "code",
   "execution_count": 223,
   "metadata": {},
   "outputs": [
    {
     "data": {
      "application/vnd.bokehjs_exec.v0+json": "",
      "text/html": [
       "\n",
       "<script\n",
       "    src=\"http://localhost:57558/autoload.js?bokeh-autoload-element=b61399cf-c5ee-4efa-859e-1f3902681353&bokeh-absolute-url=http://localhost:57558\"\n",
       "    id=\"b61399cf-c5ee-4efa-859e-1f3902681353\"\n",
       "    data-bokeh-model-id=\"\"\n",
       "    data-bokeh-doc-id=\"\"\n",
       "></script>"
      ]
     },
     "metadata": {
      "application/vnd.bokehjs_exec.v0+json": {
       "server_id": "02711dde879e492e9ebcc11e6e12a742"
      }
     },
     "output_type": "display_data"
    },
    {
     "data": {
      "text/plain": [
       "{'color_maps': {}, 'data': None, 'figures': {}, 'plots': {}, 'widgets': {}}"
      ]
     },
     "execution_count": 223,
     "metadata": {},
     "output_type": "execute_result"
    }
   ],
   "source": [
    "# make more granular along eV, phi\n",
    "rebin(f40.spectrum, reduction={'eV': 5, 'phi': 3}).S.show()"
   ]
  },
  {
   "cell_type": "markdown",
   "metadata": {},
   "source": [
    "## Curve Fitting"
   ]
  },
  {
   "cell_type": "code",
   "execution_count": 78,
   "metadata": {},
   "outputs": [],
   "source": [
    "# Fermi edge fitting\n",
    "n40 = f40.sel(phi=slice(-0.5, 0.1)).transpose('phi', 'eV', 'delay').sel(eV=slice(-0.2, None))\n",
    "fit_results = broadcast_model(GStepBModel, rebin(n40.spectrum, reduction={'phi': 3}), ['phi', 'delay'])\n",
    "# fit finite temperature Fermi edges over phi, delay"
   ]
  },
  {
   "cell_type": "code",
   "execution_count": 247,
   "metadata": {},
   "outputs": [
    {
     "data": {
      "application/vnd.jupyter.widget-view+json": {
       "model_id": "cf10104577614b42a7ee826660363669",
       "version_major": 2,
       "version_minor": 0
      },
      "text/html": [
       "<p>Failed to display Jupyter Widget of type <code>HBox</code>.</p>\n",
       "<p>\n",
       "  If you're reading this message in Jupyter Notebook or JupyterLab, it may mean\n",
       "  that the widgets JavaScript is still loading. If this message persists, it\n",
       "  likely means that the widgets JavaScript library is either not installed or\n",
       "  not enabled. See the <a href=\"https://ipywidgets.readthedocs.io/en/stable/user_install.html\">Jupyter\n",
       "  Widgets Documentation</a> for setup instructions.\n",
       "</p>\n",
       "<p>\n",
       "  If you're reading this message in another notebook frontend (for example, a static\n",
       "  rendering on GitHub or <a href=\"https://nbviewer.jupyter.org/\">NBViewer</a>),\n",
       "  it may mean that your frontend doesn't currently support widgets.\n",
       "</p>\n"
      ],
      "text/plain": [
       "HBox(children=(IntProgress(value=0, description='Fitting', max=720), HTML(value='')))"
      ]
     },
     "metadata": {},
     "output_type": "display_data"
    },
    {
     "name": "stdout",
     "output_type": "stream",
     "text": [
      "\n"
     ]
    }
   ],
   "source": [
    "data = rebin(sn40.sel(phi=slice(-0.5, 0.1), eV=slice(-0.2, None)), phi=3)\n",
    "results = broadcast_model(GStepBModel, data, ['delay', 'phi'])"
   ]
  },
  {
   "cell_type": "code",
   "execution_count": 264,
   "metadata": {},
   "outputs": [
    {
     "data": {
      "text/plain": [
       "<matplotlib.collections.QuadMesh at 0x132cb08d0>"
      ]
     },
     "execution_count": 264,
     "metadata": {},
     "output_type": "execute_result"
    },
    {
     "data": {
      "image/png": "[encoded data removed]",
      "text/plain": [
       "<matplotlib.figure.Figure at 0x132c64978>"
      ]
     },
     "metadata": {},
     "output_type": "display_data"
    }
   ],
   "source": [
    "fit_centers = results.G.map(param_getter('center'))\n",
    "(fit_centers - fit_centers.sel(delay=slice(4.5, 5)).mean('delay')).plot()"
   ]
  },
  {
   "cell_type": "code",
   "execution_count": 329,
   "metadata": {},
   "outputs": [],
   "source": [
    "# can also get errors: use param_stderr_getter\n",
    "\n",
    "fit_errors = results.G.map(param_stderr_getter('width')) # fit errors on the edge width"
   ]
  },
  {
   "cell_type": "code",
   "execution_count": 333,
   "metadata": {},
   "outputs": [
    {
     "data": {
      "application/vnd.jupyter.widget-view+json": {
       "model_id": "657122948ecc4aa9a2fbf086a7f71687",
       "version_major": 2,
       "version_minor": 0
      },
      "text/html": [
       "<p>Failed to display Jupyter Widget of type <code>HBox</code>.</p>\n",
       "<p>\n",
       "  If you're reading this message in Jupyter Notebook or JupyterLab, it may mean\n",
       "  that the widgets JavaScript is still loading. If this message persists, it\n",
       "  likely means that the widgets JavaScript library is either not installed or\n",
       "  not enabled. See the <a href=\"https://ipywidgets.readthedocs.io/en/stable/user_install.html\">Jupyter\n",
       "  Widgets Documentation</a> for setup instructions.\n",
       "</p>\n",
       "<p>\n",
       "  If you're reading this message in another notebook frontend (for example, a static\n",
       "  rendering on GitHub or <a href=\"https://nbviewer.jupyter.org/\">NBViewer</a>),\n",
       "  it may mean that your frontend doesn't currently support widgets.\n",
       "</p>\n"
      ],
      "text/plain": [
       "HBox(children=(IntProgress(value=0, description='Fitting', max=16), HTML(value='')))"
      ]
     },
     "metadata": {},
     "output_type": "display_data"
    },
    {
     "name": "stdout",
     "output_type": "stream",
     "text": [
      "\n"
     ]
    },
    {
     "data": {
      "application/vnd.bokehjs_exec.v0+json": "",
      "text/html": [
       "\n",
       "<script\n",
       "    src=\"http://localhost:50312/autoload.js?bokeh-autoload-element=41b752e5-ad62-4821-929e-fc2c60cb2bcc&bokeh-absolute-url=http://localhost:50312\"\n",
       "    id=\"41b752e5-ad62-4821-929e-fc2c60cb2bcc\"\n",
       "    data-bokeh-model-id=\"\"\n",
       "    data-bokeh-doc-id=\"\"\n",
       "></script>"
      ]
     },
     "metadata": {
      "application/vnd.bokehjs_exec.v0+json": {
       "server_id": "11a44c650ec7406dbee3d6efc9f9dd36"
      }
     },
     "output_type": "display_data"
    },
    {
     "data": {
      "text/plain": [
       "{'color_maps': {}, 'data': None, 'figures': {}, 'plots': {}, 'widgets': {}}"
      ]
     },
     "execution_count": 333,
     "metadata": {},
     "output_type": "execute_result"
    }
   ],
   "source": [
    "# inspecting fits\n",
    "data = sn40.sel(phi=slice(-0.5, 0.1), eV=slice(-0.2, None))\n",
    "results_one = broadcast_model(GStepBModel, data.sum('phi'), 'delay')\n",
    "results_one.F.show()"
   ]
  },
  {
   "cell_type": "code",
   "execution_count": 270,
   "metadata": {},
   "outputs": [
    {
     "data": {
      "application/vnd.bokehjs_exec.v0+json": "",
      "text/html": [
       "\n",
       "<script\n",
       "    src=\"http://localhost:51018/autoload.js?bokeh-autoload-element=2ead198c-e73c-423e-abcb-ae7e119a7b4b&bokeh-absolute-url=http://localhost:51018\"\n",
       "    id=\"2ead198c-e73c-423e-abcb-ae7e119a7b4b\"\n",
       "    data-bokeh-model-id=\"\"\n",
       "    data-bokeh-doc-id=\"\"\n",
       "></script>"
      ]
     },
     "metadata": {
      "application/vnd.bokehjs_exec.v0+json": {
       "server_id": "d93e8db2d1db432ead78ce310b4bd33b"
      }
     },
     "output_type": "display_data"
    }
   ],
   "source": [
    "# Band tool, still very new, talk to Conrad if you are confused/run into issues/want more features\n",
    "ctx = s40.sum('delay').S.show_band_tool()"
   ]
  },
  {
   "cell_type": "code",
   "execution_count": 341,
   "metadata": {},
   "outputs": [
    {
     "data": {
      "application/vnd.jupyter.widget-view+json": {
       "model_id": "a52ae6601c8d4b55bfb4da8523ec73c1",
       "version_major": 2,
       "version_minor": 0
      },
      "text/html": [
       "<p>Failed to display Jupyter Widget of type <code>HBox</code>.</p>\n",
       "<p>\n",
       "  If you're reading this message in Jupyter Notebook or JupyterLab, it may mean\n",
       "  that the widgets JavaScript is still loading. If this message persists, it\n",
       "  likely means that the widgets JavaScript library is either not installed or\n",
       "  not enabled. See the <a href=\"https://ipywidgets.readthedocs.io/en/stable/user_install.html\">Jupyter\n",
       "  Widgets Documentation</a> for setup instructions.\n",
       "</p>\n",
       "<p>\n",
       "  If you're reading this message in another notebook frontend (for example, a static\n",
       "  rendering on GitHub or <a href=\"https://nbviewer.jupyter.org/\">NBViewer</a>),\n",
       "  it may mean that your frontend doesn't currently support widgets.\n",
       "</p>\n"
      ],
      "text/plain": [
       "HBox(children=(IntProgress(value=0, description='fitting', max=212), HTML(value='')))"
      ]
     },
     "metadata": {},
     "output_type": "display_data"
    },
    {
     "name": "stdout",
     "output_type": "stream",
     "text": [
      "\n"
     ]
    }
   ],
   "source": [
    "# fit can be used from context (you can name this variable whatever you want)\n",
    "# If the fits don't work so well, you can modify your initial conditions above and try again\n",
    "results = ctx['fit']()\n"
   ]
  },
  {
   "cell_type": "code",
   "execution_count": 342,
   "metadata": {},
   "outputs": [
    {
     "data": {
      "application/vnd.bokehjs_exec.v0+json": "",
      "text/html": [
       "\n",
       "<script\n",
       "    src=\"http://localhost:51008/autoload.js?bokeh-autoload-element=a192bd5b-0cfe-4cf2-8bf6-ef0913e1a0e5&bokeh-absolute-url=http://localhost:51008\"\n",
       "    id=\"a192bd5b-0cfe-4cf2-8bf6-ef0913e1a0e5\"\n",
       "    data-bokeh-model-id=\"\"\n",
       "    data-bokeh-doc-id=\"\"\n",
       "></script>"
      ]
     },
     "metadata": {
      "application/vnd.bokehjs_exec.v0+json": {
       "server_id": "061879ae7acd44b59c4df8855271e525"
      }
     },
     "output_type": "display_data"
    },
    {
     "data": {
      "text/plain": [
       "{'color_maps': {}, 'data': None, 'figures': {}, 'plots': {}, 'widgets': {}}"
      ]
     },
     "execution_count": 342,
     "metadata": {},
     "output_type": "execute_result"
    }
   ],
   "source": [
    "results.F.show()"
   ]
  },
  {
   "cell_type": "markdown",
   "metadata": {},
   "source": [
    "## $k$-Space Conversion"
   ]
  },
  {
   "cell_type": "code",
   "execution_count": 346,
   "metadata": {},
   "outputs": [
    {
     "data": {
      "text/plain": [
       "<matplotlib.collections.QuadMesh at 0x12a45e0b8>"
      ]
     },
     "execution_count": 346,
     "metadata": {},
     "output_type": "execute_result"
    },
    {
     "data": {
      "image/png": "[encoded data removed]",
      "text/plain": [
       "<matplotlib.figure.Figure at 0x129fef588>"
      ]
     },
     "metadata": {},
     "output_type": "display_data"
    }
   ],
   "source": [
    "# You can put columns in your spreadsheet for polar angle, some spectrometers\n",
    "# already record them\n",
    "s40 = f40.spectrum\n",
    "s40.attrs['polar'] = 0\n",
    "s40.attrs['hv'] = 5.93\n",
    "convert_to_kspace(s40).sum('delay').plot()"
   ]
  },
  {
   "cell_type": "code",
   "execution_count": 344,
   "metadata": {},
   "outputs": [
    {
     "data": {
      "text/plain": [
       "<matplotlib.collections.QuadMesh at 0x1277cc438>"
      ]
     },
     "execution_count": 344,
     "metadata": {},
     "output_type": "execute_result"
    },
    {
     "data": {
      "image/png": "[encoded data removed]",
      "text/plain": [
       "<matplotlib.figure.Figure at 0x1275acd30>"
      ]
     },
     "metadata": {},
     "output_type": "display_data"
    }
   ],
   "source": [
    "# Wait that doesn't look like Gamma...\n",
    "s40.attrs['symmetry_points']  = {'G': {'phi': -0.15}}\n",
    "convert_to_kspace(s40).sum('delay').plot()"
   ]
  },
  {
   "cell_type": "markdown",
   "metadata": {},
   "source": [
    "# Plotting + Figure-craft"
   ]
  },
  {
   "cell_type": "code",
   "execution_count": 41,
   "metadata": {},
   "outputs": [],
   "source": [
    "# Lots of tools available, custom + available through libraries, will only\n",
    "# go over a few"
   ]
  },
  {
   "cell_type": "code",
   "execution_count": 349,
   "metadata": {},
   "outputs": [
    {
     "data": {
      "text/plain": [
       "['_referenced_scans_for_hv_map_plot',\n",
       " '_referenced_scans_for_map_plot',\n",
       " '_simple_spectrum_reference_plot',\n",
       " 'cut_dispersion_plot',\n",
       " 'dispersion_plot',\n",
       " 'fermi_edge_reference_plot',\n",
       " 'fs_plot',\n",
       " 'isosurface_plot',\n",
       " 'reference_plot',\n",
       " 'subtraction_reference_plot']"
      ]
     },
     "execution_count": 349,
     "metadata": {},
     "output_type": "execute_result"
    }
   ],
   "source": [
    "# .S.* \n",
    "# don't remember the methods? Tab complete or let's use dir(...)\n",
    "dir(s40.S) # lots of shit if you print this\n",
    "[p for p in dir(s40.S) if 'plot' in p]"
   ]
  },
  {
   "cell_type": "code",
   "execution_count": 275,
   "metadata": {},
   "outputs": [
    {
     "data": {
      "image/png": "[encoded data removed]",
      "text/plain": [
       "<matplotlib.figure.Figure at 0x13592c128>"
      ]
     },
     "metadata": {},
     "output_type": "display_data"
    },
    {
     "data": {
      "text/plain": [
       "(<matplotlib.figure.Figure at 0x13592c128>,\n",
       " <matplotlib.axes._subplots.AxesSubplot at 0x13591fd68>)"
      ]
     },
     "execution_count": 275,
     "metadata": {},
     "output_type": "execute_result"
    }
   ],
   "source": [
    "# Stack plots\n",
    "stack_dispersion_plot(s40.sum('delay'), scale_factor=0.1)"
   ]
  },
  {
   "cell_type": "code",
   "execution_count": 280,
   "metadata": {},
   "outputs": [
    {
     "data": {
      "image/png": "[encoded data removed]",
      "text/plain": [
       "<matplotlib.figure.Figure at 0x134162978>"
      ]
     },
     "metadata": {},
     "output_type": "display_data"
    },
    {
     "data": {
      "text/plain": [
       "<matplotlib.axes._subplots.AxesSubplot at 0x134154dd8>"
      ]
     },
     "execution_count": 280,
     "metadata": {},
     "output_type": "execute_result"
    }
   ],
   "source": [
    "# Fancy dispersion plots\n",
    "convert_to_kspace(s40).sum('delay').sel(eV=slice(None, 0.3)).S.dispersion_plot(title='Hi My Plot')"
   ]
  },
  {
   "cell_type": "code",
   "execution_count": null,
   "metadata": {},
   "outputs": [],
   "source": [
    "# Cut dispersion\n",
    "help(cut_dispersion_plot)"
   ]
  },
  {
   "cell_type": "code",
   "execution_count": null,
   "metadata": {},
   "outputs": [],
   "source": [
    "# References onto maps/photon energy scans\n",
    "help(make_reference_plots)"
   ]
  },
  {
   "cell_type": "code",
   "execution_count": 350,
   "metadata": {},
   "outputs": [
    {
     "data": {
      "application/vnd.plotly.v1+json": {
       "data": [
        {
         "cauto": true,
         "cmax": 0.08472566754555479,
         "cmin": -0.09899755679991441,
         "type": "surface",
         "uid": "5c478c",
         "x": [
          4.5,
          4.7,
          4.9,
          5.1,
          5.3,
          5.5,
          5.7,
          5.9,
          6.1,
          6.3,
          6.5,
          6.7,
          6.9,
          7.1,
          7.300000000000001,
          7.5
         ],
         "y": [
          -0.49741883681838395,
          -0.48432886742842646,
          -0.47123889803846897,
          -0.45814892864851153,
          -0.44505895925855404,
          -0.43196898986859655,
          -0.4188790204786391,
          -0.40578905108868163,
          -0.39269908169872414,
          -0.37960911230876665,
          -0.3665191429188092,
          -0.3534291735288517,
          -0.34033920413889424,
          -0.3272492347489368,
          -0.3141592653589793,
          -0.3010692959690218,
          -0.2879793265790644,
          -0.2748893571891069,
          -0.2617993877991494,
          -0.24870941840919197,
          -0.23561944901923448,
          -0.22252947962927702,
          -0.20943951023931956,
          -0.19634954084936207,
          -0.1832595714594046,
          -0.17016960206944712,
          -0.15707963267948966,
          -0.1439896632895322,
          -0.1308996938995747,
          -0.11780972450961724,
          -0.10471975511965978,
          -0.0916297857297023,
          -0.07853981633974483,
          -0.06544984694978735,
          -0.05235987755982989,
          -0.039269908169872414,
          -0.026179938779914945,
          -0.013089969389957472,
          0,
          0.013089969389957472,
          0.026179938779914945,
          0.039269908169872414,
          0.05235987755982989,
          0.06544984694978735,
          0.07853981633974483
         ],
         "z": [
          [
           0.014930653953190985,
           0.008073840949530887,
           0.01097309098223352,
           0.03864805783592429,
           0.0421314127290274,
           0.052936975002901586,
           0.08235454275533105,
           0.07880013705593242,
           0.08239429624107902,
           0.08472566754555479,
           0.07498048247551761,
           0.07119902466005788,
           0.06799646069202912,
           0.06572455498083549,
           0.06172282295576778,
           0.057612463079044225
          ],
          [
           -0.023893298641833198,
           -0.023715934320139295,
           -0.022460746236594675,
           -0.024199527250798398,
           -0.020379766735191263,
           -0.00657116111440886,
           0.020727095471352788,
           0.03158942905269296,
           0.031916311611310255,
           0.030431218847428027,
           0.028572785451195574,
           0.02244548431242868,
           0.02168615246404138,
           0.01507679677224797,
           0.014431029299115465,
           0.00942864351295447
          ],
          [
           -0.045090335303750055,
           -0.04825684376046311,
           -0.04540389183155226,
           -0.0475424615480394,
           -0.04727304020207006,
           -0.03678614386585675,
           -0.014568516782295938,
           -0.002454814951201692,
           0.001881550089412941,
           -0.004998161263286133,
           -0.007659142247010592,
           -0.012193000569297317,
           -0.012362712410689775,
           -0.014256696791102075,
           -0.017652504499230767,
           -0.019654280230537616
          ],
          [
           -0.05254828623665456,
           -0.05475339230167691,
           -0.05465710940892391,
           -0.053646595017159134,
           -0.05389443679251537,
           -0.046322431038993014,
           -0.02761751508017826,
           -0.017117171477845368,
           -0.015649855761835633,
           -0.020376071390974988,
           -0.022047273478323227,
           -0.026241712737051347,
           -0.027437862184484015,
           -0.027444616154958665,
           -0.03316811933349633,
           -0.032349989472644926
          ],
          [
           -0.05657540131472186,
           -0.05816046423749987,
           -0.056841707622579,
           -0.05575465871849539,
           -0.0559206572164469,
           -0.0513517242638406,
           -0.0340612776644882,
           -0.02562062273675026,
           -0.024639437599956977,
           -0.022636077794848324,
           -0.02704626817605674,
           -0.033352229135348146,
           -0.03611167885271655,
           -0.03602627941045278,
           -0.037982829969435694,
           -0.03819686440560059
          ],
          [
           -0.06211683095856695,
           -0.06470082515380426,
           -0.06270101019926412,
           -0.061449916200732146,
           -0.060208580597603104,
           -0.0578636821306236,
           -0.0437205604279667,
           -0.03601107332247174,
           -0.030336762769642818,
           -0.03218594760299129,
           -0.03720628690195538,
           -0.03903861846673117,
           -0.03928379729264396,
           -0.042200791615059595,
           -0.046504672031019996,
           -0.0460751184238289
          ],
          [
           -0.0712791480382573,
           -0.071881617429494,
           -0.07091879687036592,
           -0.07249323759959289,
           -0.07070043041681308,
           -0.06700704925446538,
           -0.050450436239484045,
           -0.04057375108025351,
           -0.03979028581236575,
           -0.03991723488423258,
           -0.042089683353491794,
           -0.04997807730732234,
           -0.051207389120695876,
           -0.04997550446688453,
           -0.05438944030072925,
           -0.056246056417567136
          ],
          [
           -0.07739117391394988,
           -0.07663174989667036,
           -0.07923268745595541,
           -0.07869876943742424,
           -0.07630935953314648,
           -0.07259154130078352,
           -0.06056270015253384,
           -0.056494035606905926,
           -0.05310151045662615,
           -0.053592129532921806,
           -0.05518708937901277,
           -0.05756704523698666,
           -0.05818152491704678,
           -0.05706812933266901,
           -0.06252240771775902,
           -0.06583638836587413
          ],
          [
           -0.08440955344439323,
           -0.08161972792139635,
           -0.08520842851779084,
           -0.08524720411210844,
           -0.08164505049136188,
           -0.0812862581596316,
           -0.07330108276720684,
           -0.0673531470009218,
           -0.06478224420893589,
           -0.06854974579736792,
           -0.06899257632724841,
           -0.07272383378006586,
           -0.06492702488073535,
           -0.07161438456056124,
           -0.0741886737611782,
           -0.07774723731991336
          ],
          [
           -0.08798956536617461,
           -0.08932060986652073,
           -0.0879289942269832,
           -0.09074634746971928,
           -0.08729020161679228,
           -0.0890389592834408,
           -0.08853559684778942,
           -0.07662894436478045,
           -0.06876842688601513,
           -0.07476291328470795,
           -0.08156643031886329,
           -0.08125257536855912,
           -0.08372406766570009,
           -0.08470435653329482,
           -0.08562322271508443,
           -0.08672084725893145
          ],
          [
           -0.08919720712840329,
           -0.08589605084879258,
           -0.08886225735710031,
           -0.08798090507881152,
           -0.08539829942836641,
           -0.09100043275205695,
           -0.09619414975248305,
           -0.08048023152804525,
           -0.0689337104565905,
           -0.0740564270399319,
           -0.08116237935242403,
           -0.08262080053305064,
           -0.08397355516696277,
           -0.09899755679991441,
           -0.09054454755136762,
           -0.08493579857819657
          ],
          [
           -0.08364501177765091,
           -0.08274566130237619,
           -0.08292472594794863,
           -0.08138059632708589,
           -0.08454361286409348,
           -0.08585946818822038,
           -0.08495196571350785,
           -0.08438107037855032,
           -0.06624254140541602,
           -0.0706288890694651,
           -0.07832371840664272,
           -0.06998594089258951,
           -0.08371566227933834,
           -0.07664609728189964,
           -0.0799778781797617,
           -0.0813468355899107
          ],
          [
           -0.07515082749887624,
           -0.07396077004319691,
           -0.07531954996944795,
           -0.0729341378782815,
           -0.07842196833691706,
           -0.08017100949657135,
           -0.06787949876704694,
           -0.06262118608102654,
           -0.049420168507085055,
           -0.058168933826353006,
           -0.06351762925355216,
           -0.06446876977939166,
           -0.06399664781183927,
           -0.06541104315350212,
           -0.06964026847891623,
           -0.0715694874640004
          ],
          [
           -0.0685359666646058,
           -0.0655002326886818,
           -0.06718756573697068,
           -0.06791068762867353,
           -0.07081323180069544,
           -0.07231493396608372,
           -0.0556750381669376,
           -0.04774139167732325,
           -0.03529564205709952,
           -0.049380465535188704,
           -0.047924493242849815,
           -0.051289765648950006,
           -0.04753311277401969,
           -0.056184557262784394,
           -0.06452714645614728,
           -0.0626201084828251
          ],
          [
           -0.06207598911232076,
           -0.06231587896722666,
           -0.06485179474531955,
           -0.06223764398059252,
           -0.06269032944371233,
           -0.06401675726446394,
           -0.05454880726823756,
           -0.04047037767587812,
           -0.03390609222161168,
           -0.036432120637165694,
           -0.04554683888921466,
           -0.03597934256345643,
           -0.04646553723764647,
           -0.053751713842660455,
           -0.05213249150638279,
           -0.052215359267428936
          ],
          [
           -0.06198750249556921,
           -0.06203261766850219,
           -0.0640339772011574,
           -0.061980754095343094,
           -0.06214770890954841,
           -0.06265210733701912,
           -0.04963244480678275,
           -0.035591588079511495,
           -0.027303383888972462,
           -0.034637310867494844,
           -0.03884903076744428,
           -0.03422098244876385,
           -0.03965438538210146,
           -0.04097024375214148,
           -0.046242863820865676,
           -0.0499827495269802
          ],
          [
           -0.058619536183210544,
           -0.060384752396253086,
           -0.06191812120136245,
           -0.06046951551395693,
           -0.06324307400547774,
           -0.058049673803792494,
           -0.04713665275886149,
           -0.03387728829951994,
           -0.02831226752617611,
           -0.029174000393436893,
           -0.034809761669328074,
           -0.031590105538238794,
           -0.04270223410308114,
           -0.03796650161373283,
           -0.043010318507871514,
           -0.04579772230921587
          ],
          [
           -0.05742289431627233,
           -0.061052931069957926,
           -0.061580844706723044,
           -0.062157005969458,
           -0.06078350530749102,
           -0.05667795391350648,
           -0.04698765840251211,
           -0.03294371895378002,
           -0.029207471225094574,
           -0.02827815054481874,
           -0.03568892629269676,
           -0.03749756123433303,
           -0.0400827785151963,
           -0.03977044747462925,
           -0.04265573722881166,
           -0.043222118785862886
          ],
          [
           -0.0586250340862053,
           -0.059482290787925336,
           -0.06371577910512916,
           -0.05843877892863325,
           -0.0603235888349131,
           -0.06154311579289275,
           -0.0451184046735812,
           -0.03755745084873125,
           -0.03438663475142696,
           -0.031018450636291505,
           -0.03641954456820102,
           -0.03395423471557519,
           -0.03526944582983143,
           -0.0428923064151546,
           -0.04292944269135249,
           -0.044602813567633286
          ],
          [
           -0.06012931032245524,
           -0.062391061471449336,
           -0.062236045778701246,
           -0.05944058019998557,
           -0.0636237710422466,
           -0.06148949439522285,
           -0.046506252731973396,
           -0.03949980240730777,
           -0.02837990594000134,
           -0.028439002465202232,
           -0.03568234567700767,
           -0.035395128545935385,
           -0.03831709930113954,
           -0.04213861028306241,
           -0.03913809823547132,
           -0.04870739501846158
          ],
          [
           -0.058479929278525425,
           -0.05906686685984218,
           -0.05832954331223574,
           -0.0595076121921113,
           -0.06069383707773006,
           -0.056562062320359964,
           -0.044132123301335924,
           -0.04119007374988836,
           -0.03137285752078902,
           -0.035426583766088905,
           -0.0347151783765131,
           -0.036749428452466044,
           -0.03890199859594538,
           -0.045013411058055085,
           -0.050950928521050196,
           -0.051695742045320035
          ],
          [
           -0.06060980468463043,
           -0.05877649072613717,
           -0.05990656084066807,
           -0.05836388076572063,
           -0.06144979080386317,
           -0.05767115529910647,
           -0.046149379397150324,
           -0.03785948317948233,
           -0.035541939799554244,
           -0.034652290223783404,
           -0.04037994642643808,
           -0.033729435276950055,
           -0.04160403005830377,
           -0.04370568240655005,
           -0.04560283461980497,
           -0.05399606084753624
          ],
          [
           -0.056175072395042186,
           -0.0589092894024115,
           -0.05715712358632328,
           -0.05847553052436294,
           -0.06208458314947775,
           -0.057077247510225665,
           -0.044728967095487064,
           -0.03522390729964344,
           -0.029893190447543894,
           -0.03590386462763401,
           -0.0357188243724317,
           -0.03468922966753155,
           -0.03796258169639128,
           -0.04344647797759782,
           -0.0452989439524054,
           -0.04822879688434716
          ],
          [
           -0.05966850041553116,
           -0.061297775982641814,
           -0.06322031297345461,
           -0.05848979747679676,
           -0.060059283955209396,
           -0.058723186265299675,
           -0.04320540366011304,
           -0.03847933431133631,
           -0.031871323371896194,
           -0.03169472783388828,
           -0.03757547618900016,
           -0.04126186641113571,
           -0.035358949819705186,
           -0.045058896231399775,
           -0.047644915936322293,
           -0.04779374902063008
          ],
          [
           -0.06361476232499354,
           -0.06133974011058233,
           -0.05974393782726799,
           -0.059675970816476076,
           -0.05812567824505404,
           -0.05847474832293953,
           -0.0478604834378639,
           -0.036772771948070736,
           -0.041024813553216584,
           -0.031457999191705464,
           -0.04063066060462457,
           -0.04240045178931931,
           -0.03334005171902362,
           -0.04413816247471406,
           -0.043454970715260624,
           -0.04686292095618523
          ],
          [
           -0.058976029754263595,
           -0.06153299849779569,
           -0.05942370539468084,
           -0.05824455807321275,
           -0.06068157122354961,
           -0.05826932707369101,
           -0.04725901375728777,
           -0.037788383520177604,
           -0.03861240556090957,
           -0.031194437338189922,
           -0.03451681397728453,
           -0.03454788143353212,
           -0.03693453703073979,
           -0.04121438288611308,
           -0.0443420673411454,
           -0.047294510788005215
          ],
          [
           -0.05756510434421092,
           -0.05902408212585577,
           -0.057546315392062466,
           -0.05795538128671214,
           -0.057320409676420055,
           -0.05809307782318825,
           -0.04444512953822314,
           -0.03625579965490394,
           -0.032484203947210535,
           -0.03116072097372813,
           -0.0399785565260187,
           -0.039567434681690605,
           -0.03815504046803131,
           -0.04225301855411961,
           -0.04239066064190827,
           -0.04360360309119092
          ],
          [
           -0.05998892092065381,
           -0.06117234211139517,
           -0.05898048704712739,
           -0.057030200918020704,
           -0.05819357687707807,
           -0.05893191023863948,
           -0.05391420473800059,
           -0.03731139956798599,
           -0.03591096604786948,
           -0.03771948669002728,
           -0.042118677571271176,
           -0.038634734661804414,
           -0.04320470395963432,
           -0.041553307602748835,
           -0.04339572388357362,
           -0.0490746820330779
          ],
          [
           -0.057153264723143214,
           -0.05918287578475663,
           -0.05742600516225004,
           -0.059521273003774126,
           -0.05820463980464934,
           -0.053737689655601564,
           -0.05304063413117716,
           -0.031959669863810485,
           -0.04053910555570668,
           -0.03604923398171864,
           -0.03513893899399127,
           -0.039356810803807596,
           -0.04131958825869947,
           -0.04192552769383468,
           -0.04485393425283055,
           -0.050588077064983895
          ],
          [
           -0.05625457954877335,
           -0.06124559752355258,
           -0.0594026356452204,
           -0.05978705140487976,
           -0.0599423747678854,
           -0.060041825396915646,
           -0.04739772501587417,
           -0.040819792605121245,
           -0.031014063230579106,
           -0.03255041413874081,
           -0.03336824568225864,
           -0.03836753424232068,
           -0.04191945663474975,
           -0.04626005097221049,
           -0.04270482591372094,
           -0.04776214974256094
          ],
          [
           -0.060765090766807854,
           -0.060197973184477935,
           -0.05878949546189295,
           -0.05785048605991427,
           -0.0581689216110706,
           -0.055477268275897614,
           -0.05105707411609062,
           -0.03513248952944874,
           -0.03485441263251762,
           -0.02681352718780583,
           -0.03476903238850476,
           -0.035649432201304065,
           -0.042650135464215665,
           -0.04143254224942552,
           -0.050429680292522476,
           -0.04652408226971845
          ],
          [
           -0.05810443752548951,
           -0.05723266399124024,
           -0.056049292503353894,
           -0.05781779812804769,
           -0.06104919238759224,
           -0.05290382283337934,
           -0.04492457509835878,
           -0.03324090873270555,
           -0.02886354306800663,
           -0.0328031114325914,
           -0.0313098470427491,
           -0.038100343571973394,
           -0.03804922755332366,
           -0.039864134759624845,
           -0.0444212040842372,
           -0.040500440253872394
          ],
          [
           -0.0575200040524828,
           -0.05865347108719413,
           -0.05918293099457604,
           -0.05799038245877974,
           -0.060428471039999626,
           -0.05515761625972538,
           -0.04264197011487932,
           -0.02790264567007376,
           -0.032249839201223277,
           -0.02997185973052553,
           -0.023049622685412333,
           -0.03240585662270755,
           -0.03418078871676839,
           -0.03742242982897947,
           -0.04535747623112642,
           -0.04232272350438838
          ],
          [
           -0.0589693239280021,
           -0.06134746452858753,
           -0.058388375237823316,
           -0.0553375785216634,
           -0.05807074063642586,
           -0.05436322087509541,
           -0.03884561927057995,
           -0.03127326779221087,
           -0.032071369531943165,
           -0.02950975791241453,
           -0.028307898109301913,
           -0.03279717496051246,
           -0.03766874592690555,
           -0.03839314587026438,
           -0.04100394700830589,
           -0.03746540437001313
          ],
          [
           -0.05949353730300446,
           -0.05772448319616714,
           -0.056671949771778245,
           -0.05695734414495761,
           -0.0554039617619987,
           -0.054621144026265236,
           -0.03721808881455742,
           -0.02608242776408942,
           -0.027768986268493494,
           -0.023991310846385932,
           -0.02982858269126357,
           -0.03407353340043369,
           -0.031906895469567965,
           -0.033928910227421206,
           -0.03990443385231287,
           -0.04382987609067748
          ],
          [
           -0.0572145912451798,
           -0.056918434474915125,
           -0.057222580685224345,
           -0.055802856353029374,
           -0.05885026100952274,
           -0.05610642428205095,
           -0.042173728891330496,
           -0.026232852075929295,
           -0.025720588581749085,
           -0.021092458183762427,
           -0.02673155261341615,
           -0.03323966550765701,
           -0.03294371485887224,
           -0.0383541681789323,
           -0.03598618111161639,
           -0.03971048859895336
          ],
          [
           -0.05488625689963442,
           -0.05774193213507945,
           -0.06174987410987042,
           -0.060520543329666894,
           -0.05969214832494266,
           -0.05511487327827374,
           -0.045266003335895755,
           -0.02537186849736938,
           -0.025468009813962307,
           -0.0229170383453438,
           -0.025410799495522912,
           -0.030196534552363943,
           -0.028307014959256475,
           -0.03416251425906134,
           -0.036177021160362685,
           -0.03855315599257937
          ],
          [
           -0.056344111021629194,
           -0.05995744349704054,
           -0.058107793458316036,
           -0.057996974790291096,
           -0.05975561661964483,
           -0.056542520807457745,
           -0.04599230499687326,
           -0.020908844703652237,
           -0.032774162100695184,
           -0.020683809920951243,
           -0.02928555543344471,
           -0.039240922788496876,
           -0.027697043843890372,
           -0.03244784659902862,
           -0.04163273346927306,
           -0.040730809450621575
          ],
          [
           -0.06139166582018837,
           -0.06140048161081568,
           -0.059836873506070996,
           -0.06085859707867462,
           -0.06267798492738794,
           -0.05927059412430893,
           -0.04120921258702582,
           -0.0315184471395532,
           -0.030084086005182205,
           -0.029397624500401873,
           -0.037843318895961264,
           -0.04109104293870787,
           -0.03270190319193566,
           -0.03989192600167306,
           -0.04685245630523112,
           -0.04348159775730077
          ],
          [
           -0.0662827255662584,
           -0.07022122274541108,
           -0.06880035143378635,
           -0.06507843932993845,
           -0.06759972784314161,
           -0.0652899711508791,
           -0.05103569545682002,
           -0.030947387233614006,
           -0.039739301495940835,
           -0.045372706214806546,
           -0.04189975501467278,
           -0.06289152104280482,
           -0.05043662473700271,
           -0.04522545060766127,
           -0.049428547110234006,
           -0.05809229498587963
          ],
          [
           -0.07815414710167615,
           -0.07188368231125959,
           -0.07485112269279609,
           -0.07257109860635504,
           -0.07521308124559324,
           -0.07392956477788015,
           -0.05800527142892616,
           -0.053768164684076795,
           -0.05279916430953411,
           -0.04549470221929908,
           -0.04521064884174669,
           -0.05476550694104517,
           -0.06135521510307033,
           -0.056495388287702134,
           -0.054410453969392335,
           -0.06442096940603706
          ],
          [
           -0.07868998854910418,
           -0.08080637372701731,
           -0.08109175148645147,
           -0.07819256020273672,
           -0.07739821193817288,
           -0.07634559824482565,
           -0.06811694706679568,
           -0.04924407602607829,
           -0.04260108064116203,
           -0.04857110222416068,
           -0.05080896161714886,
           -0.05450388919505994,
           -0.05497688320915475,
           -0.05989087719949055,
           -0.060411421260774124,
           -0.07193396355473987
          ],
          [
           -0.07818152448466109,
           -0.07514522674829285,
           -0.07616872593743439,
           -0.07627824901747404,
           -0.07873731271640806,
           -0.06932252813250116,
           -0.05774169355564382,
           -0.05341792118744206,
           -0.04316305856234628,
           -0.04945146738658415,
           -0.04302470690852286,
           -0.04555104299613423,
           -0.05475731074120805,
           -0.05829817813469095,
           -0.0601108661424967,
           -0.0667265341569865
          ],
          [
           -0.07390210119090389,
           -0.0734096776858856,
           -0.07476444061932104,
           -0.07402428233518307,
           -0.07088518005783642,
           -0.07193706820052628,
           -0.04892571670068089,
           -0.028721252743576255,
           -0.03656636882897258,
           -0.038502243173771857,
           -0.0354168633678183,
           -0.047042592562982315,
           -0.05339667904697119,
           -0.04878011234873749,
           -0.060721751143592455,
           -0.06276048637861681
          ],
          [
           -0.07293468065883102,
           -0.07203465485625449,
           -0.07372607645090698,
           -0.07320066071864349,
           -0.07461422513046559,
           -0.06663790433599696,
           -0.06001214790752944,
           -0.04618678261080184,
           -0.034651019517016435,
           -0.04029633608963274,
           -0.04466011450694897,
           -0.051014531386432554,
           -0.05052918306607773,
           -0.055336821844304225,
           -0.06309482470117836,
           -0.05996688318707037
          ]
         ]
        }
       ],
       "layout": {
        "autosize": true,
        "height": 900,
        "margin": {
         "b": 65,
         "l": 65,
         "r": 50,
         "t": 90
        },
        "scene": {
         "aspectmode": "auto",
         "aspectratio": {
          "x": 1,
          "y": 1,
          "z": 1
         },
         "camera": {
          "center": {
           "x": 0,
           "y": 0,
           "z": 0
          },
          "eye": {
           "x": -1.3860462697668434,
           "y": -0.7501559065866842,
           "z": 1.4844668584641858
          },
          "up": {
           "x": 0,
           "y": 0,
           "z": 1
          }
         }
        },
        "title": "Test Title",
        "width": 900
       }
      }
     },
     "metadata": {},
     "output_type": "display_data"
    }
   ],
   "source": [
    "# Triangulated surfaces -> return to fermi fit data\n",
    "# you need to do a little work to get plotly working\n",
    "plotly_trisurf(fit_centers)"
   ]
  },
  {
   "cell_type": "markdown",
   "metadata": {},
   "source": [
    "Lots more in module: arpes.plotting"
   ]
  },
  {
   "cell_type": "markdown",
   "metadata": {},
   "source": [
    "### Modifying Figures\n",
    "\n",
    "Customization through arguments\n",
    "\n",
    "Modifying returned axes\n",
    "\n",
    "Details depend on library, check out [Matplotlib](https://matplotlib.org/) or others: Bokeh, Plotly, Seaborn, Holoviews "
   ]
  },
  {
   "cell_type": "markdown",
   "metadata": {},
   "source": [
    "## Code Walkthrough\n",
    "\n",
    "To Gitlab!"
   ]
  }
 ],
 "metadata": {
  "kernelspec": {
   "display_name": "Python [conda env:python_arpes]",
   "language": "python",
   "name": "conda-env-python_arpes-py"
  },
  "language_info": {
   "codemirror_mode": {
    "name": "ipython",
    "version": 3
   },
   "file_extension": ".py",
   "mimetype": "text/x-python",
   "name": "python",
   "nbconvert_exporter": "python",
   "pygments_lexer": "ipython3",
   "version": "3.5.4"
  }
 },
 "nbformat": 4,
 "nbformat_minor": 2
}
