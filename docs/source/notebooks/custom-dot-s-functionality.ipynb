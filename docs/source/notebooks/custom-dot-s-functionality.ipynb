{
 "cells": [
  {
   "cell_type": "code",
   "execution_count": null,
   "id": "660d3be5-8309-420a-9967-b616f49327f0",
   "metadata": {
    "nbsphinx": "hidden",
    "tags": [
     "nbconvert-hide"
    ]
   },
   "outputs": [],
   "source": [
    "\"\"\"nbconvert header\n",
    "\n",
    "We are just configuring to hide some unnecessary warnings.\n",
    "\"\"\"\n",
    "\n",
    "%matplotlib inline\n",
    "import warnings\n",
    "warnings.filterwarnings(\"ignore\")"
   ]
  },
  {
   "cell_type": "markdown",
   "id": "1b082d57-f8ab-4550-a9d1-9e03641df2b7",
   "metadata": {},
   "source": [
    "# Data Abstraction\n",
    "\n",
    "The core data primitive in PyARPES is the `xarray.DataArray`. However, adding additional scientific functionality is needed since `xarray` provides only very general functionality. The approach that we take is described in some detail in the `xarray` documentation at [extending xarray](http://xarray.pydata.org/en/stable/internals.html#extending-xarray), which allows putting additional functionality on all arrays and datasets on particular, registered attributes.\n",
    "\n",
    "In PyARPES we use a few of these:\n",
    "\n",
    "1. `.S` attribute: functionality associated with spectra (physics here)\n",
    "2. `.G` attribute: general abstract functionality that could reasonably be a part of xarray core\n",
    "3. `.F` attribute: functionality associated with curve fitting\n",
    "\n",
    "Caveat: In general these accessors can and do behave slightly differently between datasets and arrays, depending on what makes contextual sense.\n",
    "\n",
    "This section will describe just some of the functionality provided by the `.S` attribute, while the following section will describe some of the functionality on `.G` and the section on curve fitting describes much of what is available through `.F`.\n",
    "\n",
    "Much more can be learned about them by viewing the definitions in `arpes.xarray_extensions`."
   ]
  },
  {
   "cell_type": "markdown",
   "id": "6ff18741-61fd-443f-a100-9d6836b93e92",
   "metadata": {},
   "source": [
    "## Data selection\n",
    "\n",
    "### `select_around` and `select_around_data`\n",
    "\n",
    "As an alternative to interpolating, you can integrate in a small rectangular or ellipsoidal region around a point using `.S.select_around`. You can also do this for a sequence of points using `.S.select_around_data`.\n",
    "\n",
    "These functions can be run in either summing or averaging mode using either `mode='sum'` or `mode='mean'` respectively. Using the radius parameter you can specify the integration radius in pixels (`int`) or in unitful (`float`) values for all (pass a single value) or for specific (`dict`) axes.\n",
    "\n",
    "`select_around_data` operates in the same way, except that instead of passing a single point, `select_around_data` expects a dictionary or Dataset mapping axis names to iterable collections of coordinates.\n",
    "\n",
    "As a concrete example, let's consider the `example_data.temperature_dependence` dataset with axes `(eV, phi, T)` consisting of cuts at different temperatures. Suppose we wish to obtain EDCs at the Fermi momentum for each value of the temperature.\n",
    "\n",
    "First we will load the data, and combine datasets to get a full temperature dependence."
   ]
  },
  {
   "cell_type": "code",
   "execution_count": null,
   "id": "897d1dac-9209-4530-a8c5-f3ef28214f37",
   "metadata": {},
   "outputs": [],
   "source": [
    "import arpes.config\n",
    "from arpes.io import example_data\n",
    "from matplotlib import pyplot as plt\n",
    "\n",
    "temp_dep = example_data.temperature_dependence\n",
    "near_ef = temp_dep.sel(eV=slice(-0.05, 0.05), phi=slice(-0.2, None)).sum(\"eV\")\n",
    "near_ef.S.plot()"
   ]
  },
  {
   "cell_type": "markdown",
   "id": "ae09f7ae-766d-44f3-974b-a492460b800e",
   "metadata": {},
   "source": [
    "### Finding $\\phi_F$/$k_F$\n",
    "\n",
    "Now, we want to find the location of the peak in each slice of temperature so we know where to take EDCs.\n",
    "\n",
    "We will do this in two ways:\n",
    "\n",
    "1. Taking the argmax across `phi`\n",
    "2. Curve fitting MDCs\n",
    "\n",
    "#### Argmax"
   ]
  },
  {
   "cell_type": "code",
   "execution_count": null,
   "id": "704c70ba-2d3f-4aab-9056-aaa19d305a27",
   "metadata": {},
   "outputs": [],
   "source": [
    "argmax_indices = near_ef.spectrum.argmax(dim=\"phi\")\n",
    "argmax_phis = near_ef.phi[argmax_indices]\n",
    "\n",
    "fig, ax = plt.subplots()\n",
    "near_ef.S.plot(ax=ax)\n",
    "ax.scatter(*argmax_phis.G.to_arrays()[::-1], color=\"red\")"
   ]
  },
  {
   "cell_type": "markdown",
   "id": "1850d56b-4c01-4ecd-8127-068552870524",
   "metadata": {},
   "source": [
    "In the process of plotting we saw another convenience function `.G.to_arrays()` which turns a 1D dataset into two plain arrays of its coordinates (X) and values (Y) so that we could scatter `phi` as a function of `temperature`.\n",
    "\n",
    "#### Curve fitting\n",
    "\n",
    "This might be okay depending on what we are doing, but curve fitting is also straightforward and gives better results."
   ]
  },
  {
   "cell_type": "code",
   "execution_count": null,
   "id": "4ece9ee1-c717-432d-9ae2-74841d9209af",
   "metadata": {},
   "outputs": [],
   "source": [
    "from arpes.fits.fit_models import AffineBackgroundModel, LorentzianModel\n",
    "from arpes.fits.utilities import broadcast_model\n",
    "\n",
    "phis = broadcast_model(\n",
    "    # Fit with two components, a linear background and a Lorentzian peak\n",
    "    [AffineBackgroundModel, LorentzianModel],\n",
    "    # fit across the entire `near_ef` dataset\n",
    "    near_ef.spectrum,\n",
    "    # fit along each value of \"temperature\"\n",
    "    \"temperature\",\n",
    ")\n",
    "phis"
   ]
  },
  {
   "cell_type": "markdown",
   "id": "46c0e9a8-6c90-46f9-9527-5b3ce3234358",
   "metadata": {},
   "source": [
    "There's a lot here to digest, the result of our curve fit also produced a `xr.Dataset`! This is because it bundles the fitting results (a 1D array of the fitting instances), the original data, and the residual together.\n",
    "\n",
    "We will see more about all of this in the curve fitting section to follow. For now, let's just get the peak centers."
   ]
  },
  {
   "cell_type": "code",
   "execution_count": null,
   "id": "b0c58f4a-17d5-4526-b295-2a7bfa0ba8a8",
   "metadata": {},
   "outputs": [],
   "source": [
    "fig, ax = plt.subplots()\n",
    "near_ef.S.plot(ax=ax)\n",
    "ax.scatter(*phis.results.F.p(\"b_center\").G.to_arrays()[::-1], color=\"red\")"
   ]
  },
  {
   "cell_type": "markdown",
   "id": "7eeab260-2175-41bd-bb1c-d70b97fa1c41",
   "metadata": {},
   "source": [
    "This looks a lot cleaner, although our peaks may be biased too far to negative `phi` due to the asymmetric background.\n",
    "\n",
    "Here, note that prefix \"b_\" is added to the parameter \"center\" of the LorentzianModel.  (\"b\" means the \"second\" fitting model in this procedure)\n",
    "\n",
    "With the values of the Fermi momentum (in angle space) now in hand, we can select EDCs at the appropriate momentum for each value of the temperature.\n",
    "\n",
    "Let's average in a 10 mrad window."
   ]
  },
  {
   "cell_type": "code",
   "execution_count": null,
   "id": "1b756a9b-8fb8-4752-bf8c-d4163ba780cf",
   "metadata": {},
   "outputs": [],
   "source": [
    "# take the Lorentzian (component `b`) center parameter\n",
    "phi_values = phis.results.F.p(\"b_center\")\n",
    "temp_dep.spectrum.S.select_around_data(\n",
    "    {\"phi\": phi_values}, mode=\"mean\", radius={\"phi\": 0.005}\n",
    ").S.plot()"
   ]
  },
  {
   "cell_type": "markdown",
   "id": "e96207ee-5ade-4d7f-896b-2bba722b03f3",
   "metadata": {},
   "source": [
    "## Exercises\n",
    "\n",
    "1. Change the `phi` range of the selection to see how the fit responds. Can we deal with the asymmetric background this way?\n",
    "2. Inspect the first fit with `phis.results[0].item()`. What can you tell about the fit?\n",
    "2. Select a region of the temperature dependent data away from the band. Perform a broadcast fit for the Fermi edge using `arpes.fits.fit_models.AffineBroadenedFD`. Does the edge position shift at all? Does the edge width change at all? Look at the previous exercise to determine which parameters to look at."
   ]
  }
 ],
 "metadata": {
  "kernelspec": {
   "display_name": "Python 3 (ipykernel)",
   "language": "python",
   "name": "python3"
  },
  "language_info": {
   "codemirror_mode": {
    "name": "ipython",
    "version": 3
   },
   "file_extension": ".py",
   "mimetype": "text/x-python",
   "name": "python",
   "nbconvert_exporter": "python",
   "pygments_lexer": "ipython3",
   "version": "3.11.9"
  },
  "widgets": {
   "application/vnd.jupyter.widget-state+json": {
    "state": {
     "1242903eca3b4e6c91ad992d2fd084a7": {
      "model_module": "@jupyter-widgets/controls",
      "model_module_version": "2.0.0",
      "model_name": "HTMLModel",
      "state": {
       "layout": "IPY_MODEL_ea6c2b6e3c4b412698ddb056bbaac15e",
       "style": "IPY_MODEL_1dd9165dc74f423f918efa34aea7ba07",
       "value": "Fitting on pool...: 100%"
      }
     },
     "13dcd2b36f61404ba0ad5f241059358b": {
      "model_module": "@jupyter-widgets/controls",
      "model_module_version": "2.0.0",
      "model_name": "FloatProgressModel",
      "state": {
       "bar_style": "success",
       "layout": "IPY_MODEL_9fd1bad3238d48fb826717a30904791c",
       "max": 34,
       "style": "IPY_MODEL_9491da251508426ea9500f9de315be94",
       "value": 34
      }
     },
     "1dd9165dc74f423f918efa34aea7ba07": {
      "model_module": "@jupyter-widgets/controls",
      "model_module_version": "2.0.0",
      "model_name": "HTMLStyleModel",
      "state": {
       "description_width": "",
       "font_size": null,
       "text_color": null
      }
     },
     "1f487105b2b147689e1b81729fae4025": {
      "model_module": "@jupyter-widgets/controls",
      "model_module_version": "2.0.0",
      "model_name": "ProgressStyleModel",
      "state": {
       "description_width": ""
      }
     },
     "38c58b5643734878b6147cdf303b4745": {
      "model_module": "@jupyter-widgets/base",
      "model_module_version": "2.0.0",
      "model_name": "LayoutModel",
      "state": {}
     },
     "4231242b00b548a696910d3dfe66ea5d": {
      "model_module": "@jupyter-widgets/base",
      "model_module_version": "2.0.0",
      "model_name": "LayoutModel",
      "state": {}
     },
     "5fe930e9aa3a4126a64d840ed0de698f": {
      "model_module": "@jupyter-widgets/base",
      "model_module_version": "2.0.0",
      "model_name": "LayoutModel",
      "state": {}
     },
     "67ab976226b14d2aa9435873b54730f7": {
      "model_module": "@jupyter-widgets/base",
      "model_module_version": "2.0.0",
      "model_name": "LayoutModel",
      "state": {}
     },
     "6b7484d69dba4f0c81f935d93a0463ff": {
      "model_module": "@jupyter-widgets/controls",
      "model_module_version": "2.0.0",
      "model_name": "FloatProgressModel",
      "state": {
       "bar_style": "success",
       "layout": "IPY_MODEL_67ab976226b14d2aa9435873b54730f7",
       "max": 34,
       "style": "IPY_MODEL_1f487105b2b147689e1b81729fae4025",
       "value": 34
      }
     },
     "78cd459741e44eb497bc9d01d2ffa9d9": {
      "model_module": "@jupyter-widgets/controls",
      "model_module_version": "2.0.0",
      "model_name": "HTMLStyleModel",
      "state": {
       "description_width": "",
       "font_size": null,
       "text_color": null
      }
     },
     "869045844d8c4637b6604a22dc931f8c": {
      "model_module": "@jupyter-widgets/controls",
      "model_module_version": "2.0.0",
      "model_name": "HTMLStyleModel",
      "state": {
       "description_width": "",
       "font_size": null,
       "text_color": null
      }
     },
     "9491da251508426ea9500f9de315be94": {
      "model_module": "@jupyter-widgets/controls",
      "model_module_version": "2.0.0",
      "model_name": "ProgressStyleModel",
      "state": {
       "description_width": ""
      }
     },
     "9ae0e45d389c46babe9b19d1b563087d": {
      "model_module": "@jupyter-widgets/controls",
      "model_module_version": "2.0.0",
      "model_name": "HTMLStyleModel",
      "state": {
       "description_width": "",
       "font_size": null,
       "text_color": null
      }
     },
     "9fd1bad3238d48fb826717a30904791c": {
      "model_module": "@jupyter-widgets/base",
      "model_module_version": "2.0.0",
      "model_name": "LayoutModel",
      "state": {}
     },
     "a9283fc3efb2459ba41b0a85564eea28": {
      "model_module": "@jupyter-widgets/controls",
      "model_module_version": "2.0.0",
      "model_name": "HTMLModel",
      "state": {
       "layout": "IPY_MODEL_38c58b5643734878b6147cdf303b4745",
       "style": "IPY_MODEL_9ae0e45d389c46babe9b19d1b563087d",
       "value": " 34/34 [00:00&lt;00:00, 494.29it/s]"
      }
     },
     "ac2f1eb6989d4407b01e1892f28d6e67": {
      "model_module": "@jupyter-widgets/controls",
      "model_module_version": "2.0.0",
      "model_name": "HTMLModel",
      "state": {
       "layout": "IPY_MODEL_e84207942d2542d6b4efe8929996c280",
       "style": "IPY_MODEL_869045844d8c4637b6604a22dc931f8c",
       "value": " 34/34 [00:02&lt;00:00,  2.60s/it]"
      }
     },
     "df8fdb618ea440148409835eede519ee": {
      "model_module": "@jupyter-widgets/base",
      "model_module_version": "2.0.0",
      "model_name": "LayoutModel",
      "state": {}
     },
     "e03fdeb554634e9ca3a7c57aed34918a": {
      "model_module": "@jupyter-widgets/controls",
      "model_module_version": "2.0.0",
      "model_name": "HBoxModel",
      "state": {
       "children": [
        "IPY_MODEL_f4433b0c164948d0a3117f224deeac5c",
        "IPY_MODEL_6b7484d69dba4f0c81f935d93a0463ff",
        "IPY_MODEL_ac2f1eb6989d4407b01e1892f28d6e67"
       ],
       "layout": "IPY_MODEL_5fe930e9aa3a4126a64d840ed0de698f"
      }
     },
     "e488ea76b3c84caf8c6750e6846edabb": {
      "model_module": "@jupyter-widgets/controls",
      "model_module_version": "2.0.0",
      "model_name": "HBoxModel",
      "state": {
       "children": [
        "IPY_MODEL_1242903eca3b4e6c91ad992d2fd084a7",
        "IPY_MODEL_13dcd2b36f61404ba0ad5f241059358b",
        "IPY_MODEL_a9283fc3efb2459ba41b0a85564eea28"
       ],
       "layout": "IPY_MODEL_df8fdb618ea440148409835eede519ee"
      }
     },
     "e84207942d2542d6b4efe8929996c280": {
      "model_module": "@jupyter-widgets/base",
      "model_module_version": "2.0.0",
      "model_name": "LayoutModel",
      "state": {}
     },
     "ea6c2b6e3c4b412698ddb056bbaac15e": {
      "model_module": "@jupyter-widgets/base",
      "model_module_version": "2.0.0",
      "model_name": "LayoutModel",
      "state": {}
     },
     "f4433b0c164948d0a3117f224deeac5c": {
      "model_module": "@jupyter-widgets/controls",
      "model_module_version": "2.0.0",
      "model_name": "HTMLModel",
      "state": {
       "layout": "IPY_MODEL_4231242b00b548a696910d3dfe66ea5d",
       "style": "IPY_MODEL_78cd459741e44eb497bc9d01d2ffa9d9",
       "value": "Fitting on pool...: 100%"
      }
     }
    },
    "version_major": 2,
    "version_minor": 0
   }
  }
 },
 "nbformat": 4,
 "nbformat_minor": 5
}
