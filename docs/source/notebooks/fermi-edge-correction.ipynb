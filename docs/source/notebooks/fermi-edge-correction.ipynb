{
 "cells": [
  {
   "cell_type": "code",
   "execution_count": null,
   "id": "f09d3de0-88a9-41c0-86e4-ee6d75fd4d79",
   "metadata": {
    "nbsphinx": "hidden",
    "tags": [
     "nbconvert-hide"
    ]
   },
   "outputs": [],
   "source": [
    "\"\"\"nbconvert header\n",
    "\n",
    "We are just configuring to hide some unnecessary warnings.\n",
    "\"\"\"\n",
    "\n",
    "%matplotlib inline\n",
    "import warnings\n",
    "warnings.filterwarnings(\"ignore\")"
   ]
  },
  {
   "cell_type": "markdown",
   "id": "81bf9210-2722-4b62-b749-e4361035ca6b",
   "metadata": {},
   "source": [
    "# Performing Fermi Edge Corrections\n",
    "\n",
    "The most straightforward way to correct the Fermi edge, either due to monochromator miscalibration in a photon energy scan or due to using a straight slit on a hemispherical analyzer is just to broadcast an edge.\n",
    "\n",
    "In the case of correcting for the slit shape, it may be helpful to further fit a model for the edge shape, like a quadratic, so that a smooth correction is applied across the detector.\n",
    "\n",
    "## Correcting monochromator miscalibration"
   ]
  },
  {
   "cell_type": "code",
   "execution_count": null,
   "id": "65f15333-14d6-43c5-b014-4030db2d2772",
   "metadata": {},
   "outputs": [],
   "source": [
    "import arpes.config\n",
    "from arpes.fits import AffineBroadenedFD, broadcast_model\n",
    "from arpes.io import example_data\n",
    "\n",
    "photon_energy = example_data.photon_energy"
   ]
  },
  {
   "cell_type": "code",
   "execution_count": null,
   "id": "37b0627f-490f-4524-a98c-aeee8022d0af",
   "metadata": {},
   "outputs": [],
   "source": [
    "edge_data = photon_energy.sel(phi=slice(-0.28, -0.15), eV=slice(-0.1, 0.1)).sum(\"phi\").spectrum\n",
    "edge_data.T.plot()"
   ]
  },
  {
   "cell_type": "code",
   "execution_count": null,
   "id": "99b28327-23ab-4739-ba7b-164e5b0ccc6d",
   "metadata": {},
   "outputs": [],
   "source": [
    "import matplotlib.pyplot as plt\n",
    "\n",
    "fit_results = broadcast_model(AffineBroadenedFD, edge_data, \"hv\", progress=False)\n",
    "\n",
    "fig, ax = plt.subplots()\n",
    "edge_data.T.plot(ax=ax)\n",
    "ax.scatter(*fit_results.results.F.p(\"center\").G.to_arrays(), color=\"red\")"
   ]
  },
  {
   "cell_type": "markdown",
   "id": "3ba3f342-688e-4853-80f2-1a8ae6934dad",
   "metadata": {},
   "source": [
    "Now, we can perform the shift to correct the edge."
   ]
  },
  {
   "cell_type": "code",
   "execution_count": null,
   "id": "9af2a5ad-54a6-4387-81cf-d970f54ad6c5",
   "metadata": {},
   "outputs": [],
   "source": [
    "corrected_photon_energy = photon_energy.spectrum.G.shift_by(\n",
    "    fit_results.results.F.p(\"center\"), shift_axis=\"eV\", shift_coords=True\n",
    ")  # Note that G.shift_by is applied to \"spectrum\" (i.e. xr.DataArray)\n",
    "\n",
    "corrected_edge_data = corrected_photon_energy.sel(phi=slice(-0.28, -0.15), eV=slice(-0.1, 0.1)).sum(\n",
    "    \"phi\"\n",
    ")\n",
    "\n",
    "results_check = broadcast_model(\n",
    "    AffineBroadenedFD, corrected_edge_data, \"hv\", progress=False\n",
    ")  # for suppressing the warning during Sphinx procedure.\n",
    "\n",
    "fig, ax = plt.subplots()\n",
    "corrected_edge_data.T.plot(ax=ax)\n",
    "ax.scatter(*results_check.results.F.p(\"center\").G.to_arrays(), color=\"red\")"
   ]
  },
  {
   "cell_type": "markdown",
   "id": "a3bac096-9788-4124-891c-670722eed388",
   "metadata": {},
   "source": [
    "As we can see, the edge is now uniform across photon energy and correctly zero referenced.\n",
    "\n",
    "A caveat to be aware of when shifting data is whether to make data adjustments only or to use coordinate adjustments as well. Coordinate adjustments (above: `shift_coords=True`) are useful when the shift is very large. If the coords are not allowed to compensate for some of the shift in that context, large portions of data will be shifted out of the array extent and be replaced by `np.nan` or `0`.\n",
    "\n",
    "However, if coordinates no longer agree between two pieces of data, we will not be able to perform array operations involving both of them, because of their incompatible coordinates. \n",
    "\n",
    "The correct behavior is context dependent and requires you to consider what analysis you are trying to do."
   ]
  },
  {
   "cell_type": "markdown",
   "id": "7e4d93c9-9e56-44f1-aee0-ca5148a79828",
   "metadata": {},
   "source": [
    "## Correcting the curved Fermi edges\n",
    "\n",
    "Let's now turn to an example addressing the uneven energy calibration arising from the use of a straight slit in ARPES data. \n",
    "\n",
    "We will shortly turn to the question of momentum conversion, but we will want to have this issue corrected before converting. The correction we need to apply is a function of the detector angle `phi`, so it will not be a constant function of any momentum coordinate, in general.\n",
    "\n",
    "First, let's assess the data."
   ]
  },
  {
   "cell_type": "code",
   "execution_count": null,
   "id": "d96f1aab-7f88-46e7-9878-521d3147e422",
   "metadata": {},
   "outputs": [],
   "source": [
    "from arpes.io import example_data\n",
    "\n",
    "cut = example_data.map.sum(\"theta\").spectrum\n",
    "cut = cut.sel(eV=slice(-0.2, 0.1), phi=slice(-0.25, 0.3))\n",
    "cut.S.plot()"
   ]
  },
  {
   "cell_type": "markdown",
   "id": "7ac2cc7f-9623-4a38-a7d5-7df461339139",
   "metadata": {},
   "source": [
    "Now, let's fit edges to this data."
   ]
  },
  {
   "cell_type": "code",
   "execution_count": null,
   "id": "ee954788-fa23-487f-bc5d-078fe7fca709",
   "metadata": {},
   "outputs": [],
   "source": [
    "import matplotlib.pyplot as plt\n",
    "from arpes.fits.fit_models import AffineBroadenedFD, QuadraticModel\n",
    "from arpes.fits.utilities import broadcast_model\n",
    "\n",
    "fit_results = broadcast_model(\n",
    "    AffineBroadenedFD, cut, \"phi\", progress=False\n",
    ")  # For supressing debugger warning\n",
    "\n",
    "fit_results.results.F.plot_param(\"center\")\n",
    "plt.gca().set_ylim([-0.05, 0.05])"
   ]
  },
  {
   "cell_type": "markdown",
   "id": "65255033-2232-430d-ab53-cfbb0ac612b9",
   "metadata": {},
   "source": [
    "We could either refine these fits a little by setting some constraints, or we can make a smooth correction by fitting a quadratic to these edge locations."
   ]
  },
  {
   "cell_type": "code",
   "execution_count": null,
   "id": "97bd1cf8-5e13-4cc4-939d-6af1ca2156e9",
   "metadata": {},
   "outputs": [],
   "source": [
    "quad_mod = QuadraticModel().guess_fit(fit_results.results.F.p(\"center\"))\n",
    "quat_mode_plot = quad_mod.plot()"
   ]
  },
  {
   "cell_type": "markdown",
   "id": "890c2dc4-69f3-425e-8f45-0a8a9c8d4cd2",
   "metadata": {},
   "source": [
    "Now, we can shift the data exactly like we did before. In order to get the shift amount to apply at each `phi`, we just evaluate our quadratic at these `phi`."
   ]
  },
  {
   "cell_type": "code",
   "execution_count": null,
   "id": "35a8413e-deb9-4d5c-a4fc-b98b84ad9ad2",
   "metadata": {},
   "outputs": [],
   "source": [
    "fmap = example_data.map.spectrum\n",
    "edge = quad_mod.eval(x=fmap.phi)\n",
    "\n",
    "corrected_map = fmap.G.shift_by(edge, shift_axis=\"eV\", by_axis=\"phi\")\n",
    "\n",
    "fig, axes = plt.subplots(1, 2, figsize=(10, 5))\n",
    "corrected_map.isel(theta=10).S.plot(ax=axes[0])\n",
    "fmap.isel(theta=10).S.plot(ax=axes[1])\n",
    "\n",
    "for ax in axes:\n",
    "    ax.set_title(\"\")"
   ]
  },
  {
   "cell_type": "markdown",
   "id": "f1ed6581-90ee-4759-8054-881133536ac9",
   "metadata": {},
   "source": [
    "Much better. With this in order, we can now consider momentum conversion."
   ]
  },
  {
   "cell_type": "markdown",
   "id": "8bc5e403-ed6a-40f6-aac0-e0ef4e4ec27e",
   "metadata": {},
   "source": [
    "## Exercises\n",
    "\n",
    "1. Correct the Fermi edge on the Bi2Se3 cut data `example_data.cut`. How does the presence of the dispersing surface state affect the range you should use?\n",
    "2. Perform a random shift of a Fermi edge using `.G.shift_by`. Then, try to correct it. How close is your recovered correction to the original shift?"
   ]
  }
 ],
 "metadata": {
  "kernelspec": {
   "display_name": "Python 3 (ipykernel)",
   "language": "python",
   "name": "python3"
  },
  "language_info": {
   "codemirror_mode": {
    "name": "ipython",
    "version": 3
   },
   "file_extension": ".py",
   "mimetype": "text/x-python",
   "name": "python",
   "nbconvert_exporter": "python",
   "pygments_lexer": "ipython3",
   "version": "3.11.9"
  },
  "widgets": {
   "application/vnd.jupyter.widget-state+json": {
    "state": {},
    "version_major": 2,
    "version_minor": 0
   }
  }
 },
 "nbformat": 4,
 "nbformat_minor": 5
}
