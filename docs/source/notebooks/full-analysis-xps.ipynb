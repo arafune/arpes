{
 "cells": [
  {
   "cell_type": "markdown",
   "id": "1",
   "metadata": {},
   "source": [
    "# An Example XPS Analysis\n",
    "\n",
    "In this example analysis, we are going to look at how some elements of PyARPES fit together. We'll use the `example_data.nano_xps` dataset."
   ]
  },
  {
   "cell_type": "code",
   "execution_count": null,
   "id": "0d7a86bd-0818-440a-8fca-c2074ef864cf",
   "metadata": {},
   "outputs": [],
   "source": [
    "import arpes\n",
    "from arpes.io import example_data\n",
    "from arpes.plotting.dos import plot_core_levels\n",
    "import matplotlib.pyplot as plt\n",
    "\n",
    "xps = example_data.nano_xps\n",
    "\n",
    "fig, axes = plt.subplots(1, 2, figsize=(12, 4))\n",
    "xps.sum(\"eV\").S.plot(ax=axes[0])\n",
    "plot_core_levels(xps.sum([\"x\", \"y\"]),ax=axes[1])\n",
    "plt.tight_layout()"
   ]
  },
  {
   "cell_type": "markdown",
   "id": "3",
   "metadata": {},
   "source": [
    "## Decomposition Analysis\n",
    "\n",
    "Let's look at this XPS data by performing a PCA-based decomposition across the spatial axes. This, in combination with manual exploration, will give us some sense of what's going on across the sample surface."
   ]
  },
  {
   "cell_type": "code",
   "execution_count": null,
   "id": "4",
   "metadata": {},
   "outputs": [],
   "source": [
    "from arpes.analysis.decomposition import pca_along\n",
    "import xarray as xr\n",
    "\n",
    "n_components = 5\n",
    "data, pca = pca_along(xps.spectrum, [\"x\", \"y\"], n_components=n_components)"
   ]
  },
  {
   "cell_type": "code",
   "execution_count": null,
   "id": "5",
   "metadata": {},
   "outputs": [],
   "source": [
    "fig, ax = plt.subplots(n_components, 2, figsize=(8, 4 * n_components))\n",
    "\n",
    "for component in range(n_components):\n",
    "    data.isel(components=component).S.plot(ax=ax[component, 0])\n",
    "    ax[component, 0].set_title(f\"Component {component}\")\n",
    "\n",
    "    xr.DataArray(pca.components_[component], {\"eV\": xps.eV.values}, [\"eV\"]).plot(\n",
    "        ax=ax[component, 1]\n",
    "    )\n",
    "\n",
    "plt.tight_layout()"
   ]
  },
  {
   "cell_type": "markdown",
   "id": "6",
   "metadata": {},
   "source": [
    "Let's parse this. Each row above has a spatial map of the coefficient in the decomposition (left) and the XPS spectrum corresponding to that component (right). Very intense locations in the spatial maps correspond to places where the spectrum on the right is a good representation to the data (red) or to its negative (blue).\n",
    "\n",
    "Based on the images, we can see that the first four components (0 through 3) explain almost all the variation in the data.\n",
    "\n",
    "The first component corresponds to a $\\text{WS}_2$ 4f core level spectrum, so regions of high intensity here indicate the presence of $\\text{WS}_2$. \n",
    "\n",
    "The next component has a wide background, but it still contains the imprint of the core level peaks. What's going on here? Note that in the `Component 0` image, the area surrounding the $\\text{WS}_2$ has a negative coefficient, but if we look at the average below, corresponding to an area to the left of the $\\text{WS}_2$ patch, there are no peaks. The decomposition has learned that it needs to add some core-level like peaks back into the data in order to recover these regions. Clearly, this is not an ideal decomposition, and it points to the need to interpret your analysis. There are other decompositions we could perform which have better biases for spectroscopic data.\n",
    "\n",
    "Moving to the third component we see some internal structure on the $\\text{WS}_2$ sample. By looking at the corresponding PCA component, this appears to represent a core level shift toward lower binding energy.\n",
    "\n",
    "The fourth and final component we will interpret (`Component 3`) again explains internal structure on the $\\text{WS}_2$. Looking at the corresponding spectrum, it looks like these regions correspond to wider core levels as measured by photoemission."
   ]
  },
  {
   "cell_type": "markdown",
   "id": "7",
   "metadata": {},
   "source": [
    "### Selecting data using the PCA decomposition\n",
    "\n",
    "Suppose we want to continue analysis using only the core levels for the $\\text{WS}_2$ region, as identified by `Component 0`. We can do this by masking and selecting the data before averaging."
   ]
  },
  {
   "cell_type": "code",
   "execution_count": null,
   "id": "8",
   "metadata": {},
   "outputs": [],
   "source": [
    "ws2_mask = data.isel(components=0) > 500\n",
    "substrate_mask = data.isel(components=1) > 1000\n",
    "\n",
    "fig, ax = plt.subplots(2, 2, figsize=(10, 10))\n",
    "ws2_mask.S.plot(ax=ax[0, 0])\n",
    "substrate_mask.S.plot(ax=ax[0, 1])\n",
    "\n",
    "xps.spectrum.where(ws2_mask).mean([\"x\", \"y\"]).S.plot(ax=ax[1, 0])\n",
    "xps.spectrum.where(substrate_mask).mean([\"x\", \"y\"]).S.plot(ax=ax[1, 1])\n",
    "\n",
    "ax[0, 0].set_title(\"Component 0 Mask\")\n",
    "ax[0, 1].set_title(\"Component 1 Mask\")\n",
    "ax[1, 0].set_title(\"Component 0 Masked XPS\")\n",
    "ax[1, 1].set_title(\"Component 1 Masked XPS\")\n",
    "\n",
    "plt.tight_layout()"
   ]
  },
  {
   "cell_type": "markdown",
   "id": "9",
   "metadata": {},
   "source": [
    "### Improving our masks\n",
    "\n",
    "We can see there's still some $\\text{WS}_2$ contamination in the `substrate_mask`. We can improve this by masking according to both of the first two components."
   ]
  },
  {
   "cell_type": "code",
   "execution_count": null,
   "id": "10",
   "metadata": {},
   "outputs": [],
   "source": [
    "ws2_mask = data.isel(components=0) > 500\n",
    "substrate_mask = (data.isel(components=1) > 1000) & ~ws2_mask\n",
    "\n",
    "fig, ax = plt.subplots(2, 2, figsize=(10, 10))\n",
    "ws2_mask.S.plot(ax=ax[0, 0])\n",
    "substrate_mask.S.plot(ax=ax[0, 1])\n",
    "\n",
    "xps.spectrum.where(ws2_mask).mean([\"x\", \"y\"]).S.plot(ax=ax[1, 0])\n",
    "xps.spectrum.where(substrate_mask).mean([\"x\", \"y\"]).S.plot(ax=ax[1, 1])\n",
    "\n",
    "ax[0, 0].set_title(\"Component 0 Mask\")\n",
    "ax[0, 1].set_title(\"Component 1 Mask\")\n",
    "ax[1, 0].set_title(\"Component 0 Masked XPS\")\n",
    "ax[1, 1].set_title(\"Component 1 Masked XPS\")\n",
    "\n",
    "plt.tight_layout()"
   ]
  },
  {
   "cell_type": "markdown",
   "id": "11",
   "metadata": {},
   "source": [
    "### Looking at the wider vs narrower peak regions"
   ]
  },
  {
   "cell_type": "code",
   "execution_count": null,
   "id": "12",
   "metadata": {},
   "outputs": [],
   "source": [
    "from arpes.config import use_tex\n",
    "\n",
    "use_tex(rc_text_should_use=False)\n",
    "\n",
    "ws2_mask = data.isel(components=0) > 500\n",
    "wide_peak_mask = (data.isel(components=3) > 500) & ws2_mask\n",
    "\n",
    "fig, ax = plt.subplots(2, 1, figsize=(5, 10))\n",
    "wide_peak_mask.S.plot(ax=ax[0])\n",
    "\n",
    "xps.spectrum.where(ws2_mask & ~wide_peak_mask).mean([\"x\", \"y\"]).S.plot(ax=ax[1], label=\"ws2_mask\")\n",
    "xps.spectrum.where(wide_peak_mask).mean([\"x\", \"y\"]).S.plot(ax=ax[1], label=\"wide_peak_mask\")\n",
    "\n",
    "ax[1].legend()\n",
    "\n",
    "ax[0].set_title(\"Wide Peak Mask\")\n",
    "ax[1].set_title(\"XPS Comparison\")\n",
    "\n",
    "plt.tight_layout()"
   ]
  },
  {
   "cell_type": "markdown",
   "id": "13",
   "metadata": {},
   "source": [
    "These peaks look very similar, but sure enough the ones captured by `wide_peak_mask` are wider, especially to high binding energy.\n",
    "\n",
    "Let's look at refining this analysis now with some curve fitting.\n",
    "\n",
    "## Curve Fitting\n",
    "\n",
    "First off, let's get a general model working using a single XPS curve."
   ]
  },
  {
   "cell_type": "code",
   "execution_count": null,
   "id": "14",
   "metadata": {},
   "outputs": [],
   "source": [
    "from arpes.fits.fit_models import GaussianModel, AffineBackgroundModel\n",
    "\n",
    "test_curve = xps.spectrum.where(ws2_mask & ~wide_peak_mask).mean([\"x\", \"y\"]).sel(eV=slice(-36, -31))\n",
    "\n",
    "test_model = AffineBackgroundModel() + GaussianModel(prefix=\"a_\") + GaussianModel(prefix=\"b_\")\n",
    "\n",
    "result = test_model.guess_fit(\n",
    "    test_curve - test_curve.min(),\n",
    "    params={\n",
    "        \"a_center\": {\"value\": -34.6},\n",
    "        \"b_center\": {\"value\": -32.5},\n",
    "    },\n",
    ")\n",
    "result.plot()\n",
    "result"
   ]
  },
  {
   "cell_type": "markdown",
   "id": "15",
   "metadata": {},
   "source": [
    "This looks reasonably good, but we can improve the simplicity and quality of the model if we just remove an estimated background first. Let's see how that looks"
   ]
  },
  {
   "cell_type": "code",
   "execution_count": null,
   "id": "16",
   "metadata": {},
   "outputs": [],
   "source": [
    "from arpes.fits.fit_models import GaussianModel\n",
    "from arpes.analysis.shirley import remove_shirley_background\n",
    "from arpes.fits.utilities import result_to_hints\n",
    "\n",
    "mask = ws2_mask | (data.isel(components=3) > 800)\n",
    "test_curve = xps.spectrum.where(mask).mean([\"x\", \"y\"]).sel(eV=slice(-36, -31))\n",
    "test_curve = remove_shirley_background(test_curve)\n",
    "\n",
    "test_model = GaussianModel(prefix=\"a_\") + GaussianModel(prefix=\"b_\")\n",
    "\n",
    "result = test_model.guess_fit(\n",
    "    test_curve,\n",
    "    params={\n",
    "        \"a_center\": {\"value\": -34.6},\n",
    "        \"b_center\": {\"value\": -32.5},\n",
    "    },\n",
    ")\n",
    "result.plot()\n",
    "result"
   ]
  },
  {
   "cell_type": "markdown",
   "id": "17",
   "metadata": {},
   "source": [
    "Looking at the residual this is quite a bit better. Now let's perform fitting across the entire $\\text{WS}_2$ region."
   ]
  },
  {
   "cell_type": "code",
   "execution_count": null,
   "id": "18",
   "metadata": {
    "tags": []
   },
   "outputs": [],
   "source": [
    "from arpes.fits.utilities import broadcast_model\n",
    "\n",
    "# subtract the Shirley background, calculated independently at each (x,y)\n",
    "bkg_removed_xps = remove_shirley_background(xps.spectrum.sel(eV=slice(-36, -31)))\n",
    "\n",
    "# first mask\n",
    "masked_xps = bkg_removed_xps.where(mask)"
   ]
  },
  {
   "cell_type": "code",
   "execution_count": null,
   "id": "19",
   "metadata": {},
   "outputs": [],
   "source": [
    "# Performs ~500 curve fits... make a selection if you don't want to wait a few seconds\n",
    "fit_results = broadcast_model(\n",
    "    [GaussianModel, GaussianModel],\n",
    "    masked_xps.fillna(0),  # <- fillna is essentially required.\n",
    "    [\"x\", \"y\"],\n",
    "    params=result_to_hints(result),  # use our single curve fit above for initial parameter\n",
    ")"
   ]
  },
  {
   "cell_type": "markdown",
   "id": "20",
   "metadata": {},
   "source": [
    "### Interepting the fit quality\n",
    "\n",
    "Let's have a look at the five worst fits now."
   ]
  },
  {
   "cell_type": "code",
   "execution_count": null,
   "id": "21",
   "metadata": {},
   "outputs": [],
   "source": [
    "worst = fit_results.results.F.worst_fits().values\n",
    "\n",
    "for i in range(5):\n",
    "    fig = plt.figure(figsize=(5, 5))\n",
    "    worst[i].plot(fig=fig)\n",
    "    for ax in fig.axes:\n",
    "        ax.set_title(\"\")"
   ]
  },
  {
   "cell_type": "markdown",
   "id": "22",
   "metadata": {},
   "source": [
    "The first three fits have quality issues, because the background looks not to be appropriately captured and the peak shape is different from the rest. Three problematic fits out of several hundred is not so bad, so we can continue.\n",
    "\n",
    "For proper analysis you might want to exclude these points."
   ]
  },
  {
   "cell_type": "code",
   "execution_count": null,
   "id": "23",
   "metadata": {},
   "outputs": [],
   "source": [
    "fig, ax = plt.subplots(1, 2, figsize=(12, 5))\n",
    "fit_results.results.F.p(\"a_amplitude\").T.S.plot(ax=ax[0])\n",
    "fit_results.results.F.p(\"b_amplitude\").T.S.plot(ax=ax[1], vmin=0)\n",
    "plt.tight_layout()"
   ]
  },
  {
   "cell_type": "code",
   "execution_count": null,
   "id": "24",
   "metadata": {},
   "outputs": [],
   "source": [
    "fig, ax = plt.subplots(1, 2, figsize=(12, 5))\n",
    "fit_results.results.F.p(\"a_center\").T.S.plot(ax=ax[0], vmin=-34.8, vmax=-34.1)\n",
    "fit_results.results.F.p(\"b_center\").T.S.plot(ax=ax[1], vmin=-32.7, vmax=-32.05)\n",
    "plt.tight_layout()"
   ]
  },
  {
   "cell_type": "code",
   "execution_count": null,
   "id": "25",
   "metadata": {},
   "outputs": [],
   "source": [
    "fig, ax = plt.subplots(1, 2, figsize=(12, 5))\n",
    "fit_results.results.F.p(\"a_sigma\").T.S.plot(ax=ax[0], vmax=0.22, vmin=0.14)\n",
    "fit_results.results.F.p(\"b_sigma\").T.S.plot(ax=ax[1], vmax=0.22, vmin=0.14)\n",
    "plt.tight_layout()"
   ]
  },
  {
   "cell_type": "code",
   "execution_count": null,
   "id": "26",
   "metadata": {},
   "outputs": [],
   "source": [
    "plt.scatter(\n",
    "    fit_results.results.F.p(\"a_amplitude\").values.ravel(),\n",
    "    fit_results.results.F.p(\"b_amplitude\").values.ravel(),\n",
    "    color=(0, 0, 0, 0.05),\n",
    ")\n",
    "plt.gca().set_aspect(1)\n",
    "plt.gca().set_xlabel(\"Lower Peak Intensity\")\n",
    "plt.gca().set_ylabel(\"Upper Peak Intensity\")\n",
    "plt.gca().set_xlim([0, 1600])\n",
    "plt.gca().set_ylim([0, 2400])"
   ]
  },
  {
   "cell_type": "code",
   "execution_count": null,
   "id": "27",
   "metadata": {},
   "outputs": [],
   "source": [
    "plt.scatter(\n",
    "    fit_results.results.F.p(\"a_center\").values.ravel(),\n",
    "    fit_results.results.F.p(\"b_center\").values.ravel(),\n",
    "    color=(0, 0, 0, 0.05),\n",
    ")\n",
    "plt.gca().set_aspect(1)\n",
    "plt.gca().set_xlabel(\"Lower Peak BE\")\n",
    "plt.gca().set_ylabel(\"Upper Peak BE\")"
   ]
  },
  {
   "cell_type": "code",
   "execution_count": null,
   "id": "28",
   "metadata": {},
   "outputs": [],
   "source": [
    "plt.scatter(\n",
    "    fit_results.results.F.p(\"a_center\").values.ravel(),\n",
    "    fit_results.results.F.p(\"a_sigma\").values.ravel(),\n",
    "    color=(0, 0, 0, 0.1),\n",
    ")\n",
    "plt.gca().set_aspect(1)\n",
    "plt.gca().set_xlabel(\"Lower Peak BE\")\n",
    "plt.gca().set_ylabel(\"Upper Peak Width\")"
   ]
  },
  {
   "cell_type": "markdown",
   "id": "29",
   "metadata": {},
   "source": [
    "The two cohorts in each of the above plots are the piece of $\\text{WS}_2$ on substrate and on plain Si respectively, confirming earlier expectations from the PCA analysis."
   ]
  },
  {
   "cell_type": "markdown",
   "id": "30",
   "metadata": {},
   "source": [
    "## Exercises\n",
    "\n",
    "1. Perform a selection of the data according to the fitting values and plot the corresponding mask. What does the collection of points for which **Lower Peak BE** > -34.4eV look like?\n",
    "2. Perform a selection of the data for the decompositions above and plot their corresponding average XPS curves. How do these results compare to the PCA results we found before?\n",
    "3. What might you conclude about the sample and experimental conditions given the extracted peak width map?"
   ]
  }
 ],
 "metadata": {
  "kernelspec": {
   "display_name": "Python 3 (ipykernel)",
   "language": "python",
   "name": "python3"
  },
  "language_info": {
   "codemirror_mode": {
    "name": "ipython",
    "version": 3
   },
   "file_extension": ".py",
   "mimetype": "text/x-python",
   "name": "python",
   "nbconvert_exporter": "python",
   "pygments_lexer": "ipython3",
   "version": "3.12.7"
  }
 },
 "nbformat": 4,
 "nbformat_minor": 5
}
