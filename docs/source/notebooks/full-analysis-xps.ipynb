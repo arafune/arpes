{
 "cells": [
  {
   "cell_type": "markdown",
   "id": "fb74cc0e-acdf-4c3f-8eb2-5e2eadc6d017",
   "metadata": {},
   "source": [
    "# An Example XPS Analysis\n",
    "\n",
    "In this example analysis, we are going to look at how some elements of PyARPES fit together. We'll use the `example_data.nano_xps` dataset."
   ]
  },
  {
   "cell_type": "code",
   "execution_count": null,
   "id": "0d7a86bd-0818-440a-8fca-c2074ef864cf",
   "metadata": {},
   "outputs": [],
   "source": [
    "import arpes.config\n",
    "from arpes.io import example_data\n",
    "from arpes.plotting.dos import plot_core_levels\n",
    "import matplotlib.pyplot as plt\n",
    "\n",
    "xps = example_data.nano_xps\n",
    "\n",
    "fig, axes = plt.subplots(1, 2, figsize=(12, 4))\n",
    "xps.sum(\"eV\").S.plot(ax=axes[0])\n",
    "plot_core_levels(xps.sum([\"x\", \"y\"]),ax=axes[1])\n",
    "plt.tight_layout()"
   ]
  },
  {
   "cell_type": "markdown",
   "id": "8855b1a3-05b0-438d-9a2c-985c327b3c82",
   "metadata": {},
   "source": [
    "## Decomposition Analysis\n",
    "\n",
    "Let's look at this XPS data by performing a PCA-based decomposition across the spatial axes. This, in combination with manual exploration, will give us some sense of what's going on across the sample surface."
   ]
  },
  {
   "cell_type": "code",
   "execution_count": null,
   "id": "45a8e797-ef1a-4b13-aff7-ee4f10f70470",
   "metadata": {},
   "outputs": [],
   "source": [
    "from arpes.analysis.decomposition import pca_along\n",
    "import xarray as xr\n",
    "\n",
    "n_components = 5\n",
    "data, pca = pca_along(xps.spectrum, [\"x\", \"y\"], n_components=n_components)"
   ]
  },
  {
   "cell_type": "code",
   "execution_count": null,
   "id": "20e9aaf5-0866-4eb4-bfc0-12bbd3080e2d",
   "metadata": {},
   "outputs": [],
   "source": [
    "fig, ax = plt.subplots(n_components, 2, figsize=(8, 4 * n_components))\n",
    "\n",
    "for component in range(n_components):\n",
    "    data.isel(components=component).S.plot(ax=ax[component, 0])\n",
    "    ax[component, 0].set_title(f\"Component {component}\")\n",
    "\n",
    "    xr.DataArray(pca.components_[component], {\"eV\": xps.eV.values}, [\"eV\"]).plot(\n",
    "        ax=ax[component, 1]\n",
    "    )\n",
    "\n",
    "plt.tight_layout()"
   ]
  },
  {
   "cell_type": "markdown",
   "id": "126dcb89-fc80-4ea3-be47-9f6c460478a3",
   "metadata": {},
   "source": [
    "Let's parse this. Each row above has a spatial map of the coefficient in the decomposition (left) and the XPS spectrum corresponding to that component (right). Very intense locations in the spatial maps correspond to places where the spectrum on the right is a good representation to the data (red) or to its negative (blue).\n",
    "\n",
    "Based on the images, we can see that the first four components (0 through 3) explain almost all the variation in the data.\n",
    "\n",
    "The first component corresponds to a $\\text{WS}_2$ 4f core level spectrum, so regions of high intensity here indicate the presence of $\\text{WS}_2$. \n",
    "\n",
    "The next component has a wide background, but it still contains the imprint of the core level peaks. What's going on here? Note that in the `Component 0` image, the area surrounding the $\\text{WS}_2$ has a negative coefficient, but if we look at the average below, corresponding to an area to the left of the $\\text{WS}_2$ patch, there are no peaks. The decomposition has learned that it needs to add some core-level like peaks back into the data in order to recover these regions. Clearly, this is not an ideal decomposition, and it points to the need to interpret your analysis. There are other decompositions we could perform which have better biases for spectroscopic data.\n",
    "\n",
    "Moving to the third component we see some internal structure on the $\\text{WS}_2$ sample. By looking at the corresponding PCA component, this appears to represent a core level shift toward lower binding energy.\n",
    "\n",
    "The fourth and final component we will interpret (`Component 3`) again explains internal structure on the $\\text{WS}_2$. Looking at the corresponding spectrum, it looks like these regions correspond to wider core levels as measured by photoemission."
   ]
  },
  {
   "cell_type": "markdown",
   "id": "2407f269-f2c2-4f64-ba78-9ed86bc17cb5",
   "metadata": {},
   "source": [
    "### Selecting data using the PCA decomposition\n",
    "\n",
    "Suppose we want to continue analysis using only the core levels for the $\\text{WS}_2$ region, as identified by `Component 0`. We can do this by masking and selecting the data before averaging."
   ]
  },
  {
   "cell_type": "code",
   "execution_count": null,
   "id": "2ceeb6d4-135e-4040-a12c-cc3898036598",
   "metadata": {},
   "outputs": [],
   "source": [
    "ws2_mask = data.isel(components=0) > 500\n",
    "substrate_mask = data.isel(components=1) > 1000\n",
    "\n",
    "fig, ax = plt.subplots(2, 2, figsize=(10, 10))\n",
    "ws2_mask.S.plot(ax=ax[0, 0])\n",
    "substrate_mask.S.plot(ax=ax[0, 1])\n",
    "\n",
    "xps.spectrum.where(ws2_mask).mean([\"x\", \"y\"]).S.plot(ax=ax[1, 0])\n",
    "xps.spectrum.where(substrate_mask).mean([\"x\", \"y\"]).S.plot(ax=ax[1, 1])\n",
    "\n",
    "ax[0, 0].set_title(\"Component 0 Mask\")\n",
    "ax[0, 1].set_title(\"Component 1 Mask\")\n",
    "ax[1, 0].set_title(\"Component 0 Masked XPS\")\n",
    "ax[1, 1].set_title(\"Component 1 Masked XPS\")\n",
    "\n",
    "plt.tight_layout()"
   ]
  },
  {
   "cell_type": "markdown",
   "id": "5a0cf6a8-d2f8-46df-b791-fb285aa41d0a",
   "metadata": {},
   "source": [
    "### Improving our masks\n",
    "\n",
    "We can see there's still some $\\text{WS}_2$ contamination in the `substrate_mask`. We can improve this by masking according to both of the first two components."
   ]
  },
  {
   "cell_type": "code",
   "execution_count": null,
   "id": "369e4dda-5d39-42ad-aaa0-074cd78e73e3",
   "metadata": {},
   "outputs": [],
   "source": [
    "ws2_mask = data.isel(components=0) > 500\n",
    "substrate_mask = (data.isel(components=1) > 1000) & ~ws2_mask\n",
    "\n",
    "fig, ax = plt.subplots(2, 2, figsize=(10, 10))\n",
    "ws2_mask.S.plot(ax=ax[0, 0])\n",
    "substrate_mask.S.plot(ax=ax[0, 1])\n",
    "\n",
    "xps.spectrum.where(ws2_mask).mean([\"x\", \"y\"]).S.plot(ax=ax[1, 0])\n",
    "xps.spectrum.where(substrate_mask).mean([\"x\", \"y\"]).S.plot(ax=ax[1, 1])\n",
    "\n",
    "ax[0, 0].set_title(\"Component 0 Mask\")\n",
    "ax[0, 1].set_title(\"Component 1 Mask\")\n",
    "ax[1, 0].set_title(\"Component 0 Masked XPS\")\n",
    "ax[1, 1].set_title(\"Component 1 Masked XPS\")\n",
    "\n",
    "plt.tight_layout()"
   ]
  },
  {
   "cell_type": "markdown",
   "id": "003f7576-e5b6-4ba8-9dd7-a54514bd0c7b",
   "metadata": {},
   "source": [
    "### Looking at the wider vs narrower peak regions"
   ]
  },
  {
   "cell_type": "code",
   "execution_count": null,
   "id": "559a05f6-1f4f-45b8-b1a4-e1c9c489832f",
   "metadata": {},
   "outputs": [],
   "source": [
    "from arpes.config import use_tex\n",
    "\n",
    "use_tex(rc_text_should_use=False)\n",
    "\n",
    "ws2_mask = data.isel(components=0) > 500\n",
    "wide_peak_mask = (data.isel(components=3) > 500) & ws2_mask\n",
    "\n",
    "fig, ax = plt.subplots(2, 1, figsize=(5, 10))\n",
    "wide_peak_mask.S.plot(ax=ax[0])\n",
    "\n",
    "xps.spectrum.where(ws2_mask & ~wide_peak_mask).mean([\"x\", \"y\"]).S.plot(ax=ax[1], label=\"ws2_mask\")\n",
    "xps.spectrum.where(wide_peak_mask).mean([\"x\", \"y\"]).S.plot(ax=ax[1], label=\"wide_peak_mask\")\n",
    "\n",
    "ax[1].legend()\n",
    "\n",
    "ax[0].set_title(\"Wide Peak Mask\")\n",
    "ax[1].set_title(\"XPS Comparison\")\n",
    "\n",
    "plt.tight_layout()"
   ]
  },
  {
   "cell_type": "markdown",
   "id": "284a0b22-b7df-469a-9aed-584b5d53ad83",
   "metadata": {},
   "source": [
    "These peaks look very similar, but sure enough the ones captured by `wide_peak_mask` are wider, especially to high binding energy.\n",
    "\n",
    "Let's look at refining this analysis now with some curve fitting.\n",
    "\n",
    "## Curve Fitting\n",
    "\n",
    "First off, let's get a general model working using a single XPS curve."
   ]
  },
  {
   "cell_type": "code",
   "execution_count": null,
   "id": "61aa00cd-cfbc-4dbd-a33d-260111990f49",
   "metadata": {},
   "outputs": [],
   "source": [
    "from arpes.fits.fit_models import GaussianModel, AffineBackgroundModel\n",
    "\n",
    "test_curve = xps.spectrum.where(ws2_mask & ~wide_peak_mask).mean([\"x\", \"y\"]).sel(eV=slice(-36, -31))\n",
    "\n",
    "test_model = AffineBackgroundModel() + GaussianModel(prefix=\"a_\") + GaussianModel(prefix=\"b_\")\n",
    "\n",
    "result = test_model.guess_fit(\n",
    "    test_curve - test_curve.min(),\n",
    "    params={\n",
    "        \"a_center\": {\"value\": -34.6},\n",
    "        \"b_center\": {\"value\": -32.5},\n",
    "    },\n",
    ")\n",
    "result.plot()\n",
    "result"
   ]
  },
  {
   "cell_type": "markdown",
   "id": "80ab3813-5640-4b2b-8fbf-244731cd5701",
   "metadata": {},
   "source": [
    "This looks reasonably good, but we can improve the simplicity and quality of the model if we just remove an estimated background first. Let's see how that looks"
   ]
  },
  {
   "cell_type": "code",
   "execution_count": null,
   "id": "0a40b9e6-8c94-4558-908e-bcba18e44b2d",
   "metadata": {},
   "outputs": [],
   "source": [
    "from arpes.fits.fit_models import GaussianModel\n",
    "from arpes.analysis.shirley import remove_shirley_background\n",
    "from arpes.fits.utilities import result_to_hints\n",
    "\n",
    "mask = ws2_mask | (data.isel(components=3) > 800)\n",
    "test_curve = xps.spectrum.where(mask).mean([\"x\", \"y\"]).sel(eV=slice(-36, -31))\n",
    "test_curve = remove_shirley_background(test_curve)\n",
    "\n",
    "test_model = GaussianModel(prefix=\"a_\") + GaussianModel(prefix=\"b_\")\n",
    "\n",
    "result = test_model.guess_fit(\n",
    "    test_curve,\n",
    "    params={\n",
    "        \"a_center\": {\"value\": -34.6},\n",
    "        \"b_center\": {\"value\": -32.5},\n",
    "    },\n",
    ")\n",
    "result.plot()\n",
    "result"
   ]
  },
  {
   "cell_type": "markdown",
   "id": "441fdcd7-d186-496f-9976-2d5440f42ae7",
   "metadata": {},
   "source": [
    "Looking at the residual this is quite a bit better. Now let's perform fitting across the entire $\\text{WS}_2$ region."
   ]
  },
  {
   "cell_type": "code",
   "execution_count": null,
   "id": "5c1472c1-477f-4a31-b897-3339af932e26",
   "metadata": {
    "tags": []
   },
   "outputs": [],
   "source": [
    "from arpes.fits.utilities import broadcast_model\n",
    "\n",
    "# subtract the Shirley background, calculated independently at each (x,y)\n",
    "bkg_removed_xps = remove_shirley_background(xps.spectrum.sel(eV=slice(-36, -31)))\n",
    "\n",
    "# first mask\n",
    "masked_xps = bkg_removed_xps.where(mask)"
   ]
  },
  {
   "cell_type": "code",
   "execution_count": null,
   "id": "048bc3f7-93e8-4545-886a-5165f25517f7",
   "metadata": {},
   "outputs": [],
   "source": [
    "# Performs ~500 curve fits... make a selection if you don't want to wait a few seconds\n",
    "fit_results = broadcast_model(\n",
    "    [GaussianModel, GaussianModel],\n",
    "    masked_xps.fillna(0),  # <- fillna is essentially required.\n",
    "    [\"x\", \"y\"],\n",
    "    params=result_to_hints(result),  # use our single curve fit above for initial parameter\n",
    ")"
   ]
  },
  {
   "cell_type": "markdown",
   "id": "a13c671a-37eb-4d9e-8217-4ad7740adc31",
   "metadata": {},
   "source": [
    "### Interepting the fit quality\n",
    "\n",
    "Let's have a look at the five worst fits now."
   ]
  },
  {
   "cell_type": "code",
   "execution_count": null,
   "id": "97a5307c-a29a-4c0d-a774-d770cadc26aa",
   "metadata": {},
   "outputs": [],
   "source": [
    "worst = fit_results.results.F.worst_fits().values\n",
    "\n",
    "for i in range(5):\n",
    "    fig = plt.figure(figsize=(5, 5))\n",
    "    worst[i].plot(fig=fig)\n",
    "    for ax in fig.axes:\n",
    "        ax.set_title(\"\")"
   ]
  },
  {
   "cell_type": "markdown",
   "id": "40c860d6-927d-4ed5-8c00-ea70f02bfcbd",
   "metadata": {},
   "source": [
    "The first three fits have quality issues, because the background looks not to be appropriately captured and the peak shape is different from the rest. Three problematic fits out of several hundred is not so bad, so we can continue.\n",
    "\n",
    "For proper analysis you might want to exclude these points."
   ]
  },
  {
   "cell_type": "code",
   "execution_count": null,
   "id": "75c8232c-aff6-47b8-a2c8-860d00063b0a",
   "metadata": {},
   "outputs": [],
   "source": [
    "fig, ax = plt.subplots(1, 2, figsize=(12, 5))\n",
    "fit_results.results.F.p(\"a_amplitude\").T.S.plot(ax=ax[0])\n",
    "fit_results.results.F.p(\"b_amplitude\").T.S.plot(ax=ax[1], vmin=0)\n",
    "plt.tight_layout()"
   ]
  },
  {
   "cell_type": "code",
   "execution_count": null,
   "id": "85530085-2212-45d7-a73f-90e5f78eb0b7",
   "metadata": {},
   "outputs": [],
   "source": [
    "fig, ax = plt.subplots(1, 2, figsize=(12, 5))\n",
    "fit_results.results.F.p(\"a_center\").T.S.plot(ax=ax[0], vmin=-34.8, vmax=-34.1)\n",
    "fit_results.results.F.p(\"b_center\").T.S.plot(ax=ax[1], vmin=-32.7, vmax=-32.05)\n",
    "plt.tight_layout()"
   ]
  },
  {
   "cell_type": "code",
   "execution_count": null,
   "id": "7a0bd3e7-0bda-4c2f-a4b6-01853cce99fd",
   "metadata": {},
   "outputs": [],
   "source": [
    "fig, ax = plt.subplots(1, 2, figsize=(12, 5))\n",
    "fit_results.results.F.p(\"a_sigma\").T.S.plot(ax=ax[0], vmax=0.22, vmin=0.14)\n",
    "fit_results.results.F.p(\"b_sigma\").T.S.plot(ax=ax[1], vmax=0.22, vmin=0.14)\n",
    "plt.tight_layout()"
   ]
  },
  {
   "cell_type": "code",
   "execution_count": null,
   "id": "e63bb097-19d8-4848-8fb5-39b1988f0a1f",
   "metadata": {},
   "outputs": [],
   "source": [
    "plt.scatter(\n",
    "    fit_results.results.F.p(\"a_amplitude\").values.ravel(),\n",
    "    fit_results.results.F.p(\"b_amplitude\").values.ravel(),\n",
    "    color=(0, 0, 0, 0.05),\n",
    ")\n",
    "plt.gca().set_aspect(1)\n",
    "plt.gca().set_xlabel(\"Lower Peak Intensity\")\n",
    "plt.gca().set_ylabel(\"Upper Peak Intensity\")\n",
    "plt.gca().set_xlim([0, 1600])\n",
    "plt.gca().set_ylim([0, 2400])"
   ]
  },
  {
   "cell_type": "code",
   "execution_count": null,
   "id": "6249cf42-858d-4fdc-a303-7ab3fb880f7b",
   "metadata": {},
   "outputs": [],
   "source": [
    "plt.scatter(\n",
    "    fit_results.results.F.p(\"a_center\").values.ravel(),\n",
    "    fit_results.results.F.p(\"b_center\").values.ravel(),\n",
    "    color=(0, 0, 0, 0.05),\n",
    ")\n",
    "plt.gca().set_aspect(1)\n",
    "plt.gca().set_xlabel(\"Lower Peak BE\")\n",
    "plt.gca().set_ylabel(\"Upper Peak BE\")"
   ]
  },
  {
   "cell_type": "code",
   "execution_count": null,
   "id": "fb2fbd26-0018-40f3-8b94-f8ee268ee2d0",
   "metadata": {},
   "outputs": [],
   "source": [
    "plt.scatter(\n",
    "    fit_results.results.F.p(\"a_center\").values.ravel(),\n",
    "    fit_results.results.F.p(\"a_sigma\").values.ravel(),\n",
    "    color=(0, 0, 0, 0.1),\n",
    ")\n",
    "plt.gca().set_aspect(1)\n",
    "plt.gca().set_xlabel(\"Lower Peak BE\")\n",
    "plt.gca().set_ylabel(\"Upper Peak Width\")"
   ]
  },
  {
   "cell_type": "markdown",
   "id": "a471d15f-650d-48f3-ac9e-f2f66828e9c8",
   "metadata": {},
   "source": [
    "The two cohorts in each of the above plots are the piece of $\\text{WS}_2$ on substrate and on plain Si respectively, confirming earlier expectations from the PCA analysis."
   ]
  },
  {
   "cell_type": "markdown",
   "id": "b87ad1f3-3230-4cf5-894a-84da2e5943d7",
   "metadata": {},
   "source": [
    "## Exercises\n",
    "\n",
    "1. Peform a selection of the data according to the fitting values and plot the corresponding mask. What does the collection of points for which **Lower Peak BE** > -34.4eV look like?\n",
    "2. Peform a selection of the data for the decompositions above and plot their corresponding average XPS curves. How do these results compare to the PCA results we found before?\n",
    "3. What might you conclude about the sample and experimental conditions given the extracted peak width map?"
   ]
  }
 ],
 "metadata": {
  "kernelspec": {
   "display_name": "Python 3 (ipykernel)",
   "language": "python",
   "name": "python3"
  },
  "language_info": {
   "codemirror_mode": {
    "name": "ipython",
    "version": 3
   },
   "file_extension": ".py",
   "mimetype": "text/x-python",
   "name": "python",
   "nbconvert_exporter": "python",
   "pygments_lexer": "ipython3",
   "version": "3.11.9"
  },
  "widgets": {
   "application/vnd.jupyter.widget-state+json": {
    "state": {
     "224d64d789f44244a0550a1123ba1665": {
      "model_module": "@jupyter-widgets/controls",
      "model_module_version": "2.0.0",
      "model_name": "HTMLModel",
      "state": {
       "layout": "IPY_MODEL_32318f6777074c749226a3849de71b90",
       "style": "IPY_MODEL_9cf9095f340b49a4911794fb54947b81",
       "value": "Fitting on pool...: 100%"
      }
     },
     "29f3b782eeb54946af8af3e9a9871d13": {
      "model_module": "@jupyter-widgets/controls",
      "model_module_version": "2.0.0",
      "model_name": "ProgressStyleModel",
      "state": {
       "description_width": ""
      }
     },
     "2e1367a184924fa59cd4894306473731": {
      "model_module": "@jupyter-widgets/controls",
      "model_module_version": "2.0.0",
      "model_name": "HBoxModel",
      "state": {
       "children": [
        "IPY_MODEL_224d64d789f44244a0550a1123ba1665",
        "IPY_MODEL_aa7ab8d3870b4d46a4d98c307a6639e3",
        "IPY_MODEL_cc47fa6d3c054a0abdb84e0214b25587"
       ],
       "layout": "IPY_MODEL_84c90d0d922342e081b7934daa412c10"
      }
     },
     "32318f6777074c749226a3849de71b90": {
      "model_module": "@jupyter-widgets/base",
      "model_module_version": "2.0.0",
      "model_name": "LayoutModel",
      "state": {}
     },
     "36895d4d17f842bf99d15d3a3dec7549": {
      "model_module": "@jupyter-widgets/base",
      "model_module_version": "2.0.0",
      "model_name": "LayoutModel",
      "state": {}
     },
     "555acdb3138e46ef943376707295e5fa": {
      "model_module": "@jupyter-widgets/base",
      "model_module_version": "2.0.0",
      "model_name": "LayoutModel",
      "state": {}
     },
     "84c90d0d922342e081b7934daa412c10": {
      "model_module": "@jupyter-widgets/base",
      "model_module_version": "2.0.0",
      "model_name": "LayoutModel",
      "state": {}
     },
     "9cf9095f340b49a4911794fb54947b81": {
      "model_module": "@jupyter-widgets/controls",
      "model_module_version": "2.0.0",
      "model_name": "HTMLStyleModel",
      "state": {
       "description_width": "",
       "font_size": null,
       "text_color": null
      }
     },
     "aa7ab8d3870b4d46a4d98c307a6639e3": {
      "model_module": "@jupyter-widgets/controls",
      "model_module_version": "2.0.0",
      "model_name": "FloatProgressModel",
      "state": {
       "bar_style": "success",
       "layout": "IPY_MODEL_555acdb3138e46ef943376707295e5fa",
       "max": 2091,
       "style": "IPY_MODEL_29f3b782eeb54946af8af3e9a9871d13",
       "value": 2091
      }
     },
     "cc47fa6d3c054a0abdb84e0214b25587": {
      "model_module": "@jupyter-widgets/controls",
      "model_module_version": "2.0.0",
      "model_name": "HTMLModel",
      "state": {
       "layout": "IPY_MODEL_36895d4d17f842bf99d15d3a3dec7549",
       "style": "IPY_MODEL_e57fb327c1b44d5ea96576400215dc0a",
       "value": " 2091/2091 [00:04&lt;00:00, 949.72it/s]"
      }
     },
     "e57fb327c1b44d5ea96576400215dc0a": {
      "model_module": "@jupyter-widgets/controls",
      "model_module_version": "2.0.0",
      "model_name": "HTMLStyleModel",
      "state": {
       "description_width": "",
       "font_size": null,
       "text_color": null
      }
     }
    },
    "version_major": 2,
    "version_minor": 0
   }
  }
 },
 "nbformat": 4,
 "nbformat_minor": 5
}
