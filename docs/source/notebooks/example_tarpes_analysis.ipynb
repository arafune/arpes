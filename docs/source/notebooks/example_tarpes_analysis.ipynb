{
 "cells": [
  {
   "cell_type": "markdown",
   "id": "0",
   "metadata": {},
   "source": [
    "# TARPES analysis\n",
    "\n",
    "## note\n",
    "As the real tarpes data is really larlge (making it impractical to include this package), so here we create a mock Xarray resembling the data and use it for explanation.\n",
    "\n",
    "The mockl data is a list that contains xarray:\n",
    "* 1000 xarray objects.  Each xarray represents the single set at a certain position of the delay line.\n",
    "* 20 x 20 matrix data\n",
    "* Angle (-10deg to 10deg) and energy (5 eV to 6eV)\n",
    "* \"position\" attributes, for the delay line positilon (100.0mm to 103.00 mm), which is converted to delay time."
   ]
  },
  {
   "cell_type": "code",
   "execution_count": null,
   "id": "1",
   "metadata": {},
   "outputs": [],
   "source": [
    "import numpy as np\n",
    "import xarray as xr\n",
    "from scipy.special import erf\n",
    "import matplotlib.pyplot as plt\n",
    "\n",
    "import arpes"
   ]
  },
  {
   "cell_type": "code",
   "execution_count": null,
   "id": "2",
   "metadata": {},
   "outputs": [],
   "source": [
    "def temporal_from_rate(t: float, g: float, sigma: float, k_ex: float, t0: float=0) -> float:\n",
    "    \"\"\"Temporal profile from a rate equation, which is used in (for example)\n",
    "    10.1021/acs.nanolett.3c03251\n",
    "    \"\"\"\n",
    "    return (g/2) * np.exp(k_ex * t0 + sigma**2 * (k_ex**2)/2) * np.exp(-k_ex * t) * (erf((t-t0+(sigma**2)*k_ex)/(sigma * np.sqrt(2)))+ erf((t0+(sigma**2)*k_ex)/(sigma*np.sqrt(2))))"
   ]
  },
  {
   "cell_type": "code",
   "execution_count": null,
   "id": "3",
   "metadata": {},
   "outputs": [],
   "source": [
    "n_data = 150\n",
    "position=np.linspace(100, 103, n_data)\n",
    "delaytime = np.linspace(-100E-15, 2500E-15, n_data)\n",
    "rng = np.random.default_rng(42)\n",
    "noise = rng.normal(loc=0, scale=.01, size=n_data)\n",
    "tempo_intensity = temporal_from_rate(t = delaytime,\n",
    "                        g = 1,\n",
    "                        sigma = 50E-15,\n",
    "                        k_ex = 2E12,\n",
    "                        t0=0.2E-12) + noise + 0.02\n",
    "# plt.scatter(delaytime, tempo_intensity)"
   ]
  },
  {
   "cell_type": "code",
   "execution_count": null,
   "id": "4",
   "metadata": {},
   "outputs": [],
   "source": [
    "mock_tarpes = [xr.DataArray(data = np.arange(400).reshape(20,20) * tempo_intensity[i]  ,\n",
    "                            dims=[\"phi\", \"eV\"],\n",
    "                            coords ={\"phi\": np.linspace(np.deg2rad(-10), np.deg2rad(10), 20), \"eV\":np.linspace(5, 6, 20)}, \n",
    "                            attrs = {\"position\": position[i], \"id\":int(i+1) }) for i in range(n_data)]"
   ]
  },
  {
   "cell_type": "markdown",
   "id": "5",
   "metadata": {},
   "source": [
    "## tarpes analysis "
   ]
  },
  {
   "cell_type": "markdown",
   "id": "6",
   "metadata": {},
   "source": [
    "### find_t_for_max_intensity"
   ]
  },
  {
   "cell_type": "code",
   "execution_count": null,
   "id": "7",
   "metadata": {},
   "outputs": [],
   "source": [
    "tarpes_ = arpes.analysis.tarpes.build_crosscorrelation(mock_tarpes, delayline_dim=\"position\", delayline_origin=100.31)"
   ]
  },
  {
   "cell_type": "code",
   "execution_count": null,
   "id": "8",
   "metadata": {},
   "outputs": [],
   "source": [
    "arpes.analysis.tarpes.find_t_for_max_intensity(tarpes_)"
   ]
  },
  {
   "cell_type": "code",
   "execution_count": null,
   "id": "9",
   "metadata": {},
   "outputs": [],
   "source": [
    "sum_dims = set(tarpes_.dims)\n",
    "sum_dims.remove(\"delay\")\n",
    "sum_dims.remove(\"eV\")"
   ]
  },
  {
   "cell_type": "code",
   "execution_count": null,
   "id": "10",
   "metadata": {},
   "outputs": [],
   "source": [
    "summed = tarpes_.sum(list(sum_dims)).sel(eV=slice(None, None)).mean(\"eV\")"
   ]
  },
  {
   "cell_type": "code",
   "execution_count": null,
   "id": "11",
   "metadata": {},
   "outputs": [],
   "source": [
    "summed.plot()"
   ]
  },
  {
   "cell_type": "markdown",
   "id": "12",
   "metadata": {},
   "source": [
    "### relative_change"
   ]
  },
  {
   "cell_type": "code",
   "execution_count": null,
   "id": "13",
   "metadata": {},
   "outputs": [],
   "source": [
    "arpes.analysis.tarpes.relative_change(tarpes_)"
   ]
  },
  {
   "cell_type": "code",
   "execution_count": null,
   "id": "14",
   "metadata": {},
   "outputs": [],
   "source": []
  }
 ],
 "metadata": {
  "kernelspec": {
   "display_name": "Python 3 (ipykernel)",
   "language": "python",
   "name": "python3"
  },
  "language_info": {
   "codemirror_mode": {
    "name": "ipython",
    "version": 3
   },
   "file_extension": ".py",
   "mimetype": "text/x-python",
   "name": "python",
   "nbconvert_exporter": "python",
   "pygments_lexer": "ipython3",
   "version": "3.12.8"
  }
 },
 "nbformat": 4,
 "nbformat_minor": 5
}
