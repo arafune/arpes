{
 "cells": [
  {
   "cell_type": "markdown",
   "id": "a2b80673-6cb5-405b-969f-8c9ad3845395",
   "metadata": {
    "tags": [
     "nbconvert-hide"
    ]
   },
   "source": [
    "# Tutorial data in PyARPES\n",
    "\n",
    "As of v4, PyARPES includesh seven samples of data you can use to start learning how to conduct an analysis. Realism is important in tutorials, so PyARPES includes common types of data you'll produce during experiments at synchrotrons/your lab.\n",
    "\n",
    "1. `cut`: an **Energy and momentum \"cut\"** at laser-UV photon energies across the gamma point of Bi_2Se_3.\n",
    "2. `cut2`: an **Energy and momentum \"cut\"** of two-photon photoemission spectra of Xe covered Au(111) .\n",
    "3. `map`: an **angle-angle \"map\"** at soft X-ray photon energies of a metal\n",
    "4. `map2`: an **angle-angle \"map\"** at soft X-ray photon energies of bilayer graphene on the solid.\n",
    "5. `photon_energy`: an **angle-photon energy** scan at soft X-ray energies from a metal\n",
    "6. `nano_xps`: a **scanning XPS image** at soft X-ray energies from WS2\n",
    "7. `temperature_dependence`: a **temperature resolved** ARPES cut at soft X-ray energies\n",
    "\n",
    "All samples are moderately binned to respect user's bandwidth and repository hosting constraints.\n",
    "\n",
    "If you would like to contribute a piece of sample data or want to request a particular type of data be available in future release, please let the maintainers know.\n",
    "\n",
    "Demo analyses use only these included data samples. This means you can cut-and-paste or download analysis notebooks to try them on your computer.\n",
    "\n",
    "Each analysis notebooks has a few learning exercises in a section at the end."
   ]
  },
  {
   "cell_type": "markdown",
   "id": "3850751b-404f-40cf-832c-e515bf62dcb0",
   "metadata": {},
   "source": [
    "## Accessing tutorial data\n",
    "\n",
    "To access tutorial data here or in your notebooks, you just import `example_data` from `arpes.io`."
   ]
  },
  {
   "cell_type": "code",
   "execution_count": null,
   "id": "345a929f-43ee-4c13-8508-b46794beef58",
   "metadata": {},
   "outputs": [],
   "source": [
    "import arpes.config\n",
    "from arpes.io import example_data\n",
    "\n",
    "bi2se3_cut = example_data.cut  # <- here, take `cut` above\n",
    "# any of `map`, `photon_energy`,\n",
    "# `nano_xps`, or\n",
    "# `temperature_dependence` will work"
   ]
  },
  {
   "cell_type": "code",
   "execution_count": null,
   "id": "d4ad359e-fb85-452a-b3e3-ca243de17019",
   "metadata": {},
   "outputs": [],
   "source": [
    "# the last line of a Jupyter cell is \"printed\", printing a\n",
    "# piece of ARPES data gives a rich representation\n",
    "bi2se3_cut"
   ]
  },
  {
   "cell_type": "code",
   "execution_count": null,
   "id": "ddcb2b4d-9b45-4dae-8384-8fa4836b7921",
   "metadata": {},
   "outputs": [],
   "source": [
    "# just transpose to a more natural axis order with `.T` and plot\n",
    "bi2se3_cut.spectrum.T.plot()"
   ]
  },
  {
   "cell_type": "markdown",
   "id": "994b004a-fdff-4883-8a16-d95e4c2d511f",
   "metadata": {},
   "source": [
    "## Exercises\n",
    "\n",
    "### The PyARPES data model\n",
    "\n",
    "1. Look through the HTML representation of `example_data.cut`. How do the coordinates correspond to the PyARPES spectral representation?\n",
    "2. Skim the attrs section from the HTML representation of `example_data.cut`\n",
    "3. PyARPES relies on `xarray` to provide it's \"Wave\" representation, have a look at the `xarray` [documentation](https://xarray.pydata.org) to learn how to manipulate them."
   ]
  }
 ],
 "metadata": {
  "kernelspec": {
   "display_name": "Python 3 (ipykernel)",
   "language": "python",
   "name": "python3"
  },
  "language_info": {
   "codemirror_mode": {
    "name": "ipython",
    "version": 3
   },
   "file_extension": ".py",
   "mimetype": "text/x-python",
   "name": "python",
   "nbconvert_exporter": "python",
   "pygments_lexer": "ipython3",
   "version": "3.11.9"
  },
  "widgets": {
   "application/vnd.jupyter.widget-state+json": {
    "state": {},
    "version_major": 2,
    "version_minor": 0
   }
  }
 },
 "nbformat": 4,
 "nbformat_minor": 5
}
