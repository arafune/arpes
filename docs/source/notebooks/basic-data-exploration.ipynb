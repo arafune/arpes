{
 "cells": [
  {
   "cell_type": "code",
   "execution_count": null,
   "id": "c7b8f2b6-dce0-4766-a81b-00fbbce626ff",
   "metadata": {
    "nbsphinx": "hidden",
    "tags": [
     "nbconvert-hide"
    ]
   },
   "outputs": [],
   "source": [
    "\"\"\"nbconvert header\n",
    "\n",
    "We are just configuring to hide some unnecessary warnings.\n",
    "\"\"\"\n",
    "%matplotlib inline\n",
    "import arpes"
   ]
  },
  {
   "cell_type": "markdown",
   "id": "a2b80673-6cb5-405b-969f-8c9ad3845395",
   "metadata": {},
   "source": [
    "# Basic Data Exploration"
   ]
  },
  {
   "cell_type": "code",
   "execution_count": null,
   "id": "345a929f-43ee-4c13-8508-b46794beef58",
   "metadata": {},
   "outputs": [],
   "source": [
    "import arpes\n",
    "from arpes.io import example_data\n",
    "\n",
    "f = example_data.cut"
   ]
  },
  {
   "cell_type": "code",
   "execution_count": null,
   "id": "d4ad359e-fb85-452a-b3e3-ca243de17019",
   "metadata": {},
   "outputs": [],
   "source": [
    "f.S.plot()"
   ]
  },
  {
   "cell_type": "markdown",
   "id": "8d8b6f59-4198-477e-ad80-22138721d9f7",
   "metadata": {},
   "source": [
    "Although we can plot the spectrum off of a `Dataset`, which might contain additional attributes like the photocurrent, beam current, temperature, or wall-clock time, by using `.S.plot()`, we can also get the spectrum attribute from the full data:"
   ]
  },
  {
   "cell_type": "code",
   "execution_count": null,
   "id": "ddcb2b4d-9b45-4dae-8384-8fa4836b7921",
   "metadata": {},
   "outputs": [],
   "source": [
    "f.spectrum"
   ]
  },
  {
   "cell_type": "markdown",
   "id": "4a38582d-8b1a-4e42-8bbe-50d5658e031f",
   "metadata": {},
   "source": [
    "## Selecting Data"
   ]
  },
  {
   "cell_type": "markdown",
   "id": "87928ba5-efa9-4753-9ce0-61bda4b0aa3c",
   "metadata": {},
   "source": [
    "Typically, we will not want to use the full spectrometer window. Instead we will want to focus on a particular energy or momentum range, such as the region just above, below, or around the chemical potential, or at the energy distribution curves (EDCs) around a particular significant momentum. Data selections can be performed either on `Dataset`s or `DataArray`s. In the former case, it has the effect of selecting on a particular dimension or set of dimensions for each attribute that has those dimensions.\n",
    "\n",
    "In general, we do not need to know the indices of the region we want to select: we can use the physically meaningful coordinates. As an example, to get the band structure from our data `f` between the ground reference of the spectrometer (the chemical potential) and a point 200 millivolts below, we can use `.sel`."
   ]
  },
  {
   "cell_type": "code",
   "execution_count": null,
   "id": "d021ab67-f7f0-4784-9e8f-af61a2dc68ec",
   "metadata": {},
   "outputs": [],
   "source": [
    "f.sel(eV=slice(-0.2, 0)).S.plot()"
   ]
  },
  {
   "cell_type": "markdown",
   "id": "55e2ca70-c699-4cd4-b3f2-eac4d001fd6d",
   "metadata": {},
   "source": [
    "`.sel` accepts any number of dimensions specified by a `slice`. The arguments to the slice provide a low and high cutoff respectively.\n",
    "\n",
    "We can also select just a single point along an axis by passing a value instead of a slice. In general we will want to be safe and pass the `method='nearest'` argument, in order to ensure that if the exact value we requested is not included, we will get the nearest pixel."
   ]
  },
  {
   "cell_type": "code",
   "execution_count": null,
   "id": "1d66bde0-90bc-4314-9b0b-568521bb4467",
   "metadata": {},
   "outputs": [],
   "source": [
    "# get the EDC nearly at the gamma point\n",
    "f.sel(phi=0.4, method=\"nearest\").S.plot()"
   ]
  },
  {
   "cell_type": "markdown",
   "id": "fb26015c-31d7-436a-b497-f2a6ba56b81d",
   "metadata": {},
   "source": [
    "Of course, we can select over a wider window for better statistics, so long as we average or sum out the angle axis after selecting."
   ]
  },
  {
   "cell_type": "code",
   "execution_count": null,
   "id": "c3c6fed4-b8ba-4550-847d-083997c3cd8d",
   "metadata": {},
   "outputs": [],
   "source": [
    "# get the EDC nearly at the gamma point\n",
    "f.sel(phi=slice(0.38, 0.42)).sum(\"phi\").S.plot()"
   ]
  },
  {
   "cell_type": "markdown",
   "id": "92e0ed26-a471-4f08-80d2-c0bb4e742fa8",
   "metadata": {},
   "source": [
    "### Selecting with array indices\n",
    "\n",
    "In instances where you would like to subselect by an index (ranging above from 0 to 239), as opposed to the physically significant coordinate value, we can use `.isel` instead."
   ]
  },
  {
   "cell_type": "code",
   "execution_count": null,
   "id": "ea6c8bc4-deee-4c4b-b723-17da871a24c0",
   "metadata": {},
   "outputs": [],
   "source": [
    "f.isel(phi=40).S.plot()"
   ]
  },
  {
   "cell_type": "markdown",
   "id": "1a2215c0-30a0-4341-bc3e-ce8cef40a43c",
   "metadata": {},
   "source": [
    "### Open ended selections\n",
    "\n",
    "Selections can be made open ended on one or both sides by passing `None`. In the follow example, the inclusion of `None` will cause the selection to continue to the end of the data on the high end, i.e pixels 40 to 240 on the 'phi' axis."
   ]
  },
  {
   "cell_type": "code",
   "execution_count": null,
   "id": "e0a6bcd5-83e0-44f7-b674-498d97260001",
   "metadata": {},
   "outputs": [],
   "source": [
    "f.isel(phi=slice(40, None)).S.plot()"
   ]
  },
  {
   "cell_type": "markdown",
   "id": "ace48be4-3ab2-452a-b5fc-3c669e84716b",
   "metadata": {},
   "source": [
    "## Summing and Averaging\n",
    "\n",
    "We saw above an example of taking a binned EDC by selecting a narrow angular region and taking the sum over that axis. We can also request means or sums over multiple axes with `.mean` and `.sum`."
   ]
  },
  {
   "cell_type": "code",
   "execution_count": null,
   "id": "9e4d5d68-af15-42da-84ff-4f89891cbdef",
   "metadata": {},
   "outputs": [],
   "source": [
    "f.mean(\"eV\", keep_attrs=True).S.plot()"
   ]
  },
  {
   "cell_type": "code",
   "execution_count": null,
   "id": "ee9b1b2a-5de3-404c-9b80-5a99b530e4ef",
   "metadata": {},
   "outputs": [],
   "source": [
    "# to get the value as a plain float instead of a scalar dataset\n",
    "# use `.mean([\"eV\", \"phi\"]).item()` instead\n",
    "f.spectrum.mean([\"eV\", \"phi\"], keep_attrs=True)"
   ]
  },
  {
   "cell_type": "markdown",
   "id": "bbd03f1a-b2a3-4f9d-9194-e3db96a2d42d",
   "metadata": {},
   "source": [
    "**Caveat**: Summing an axis will remove all attributes unless the `keep_attrs=True` parameter is included in the call to `.sum`. Forgetting to do this where it is necessary can cause issues down the line for analysis that requires access to the attributes, such as in converting to momentum space, where the photon energy and coordinate offset for normal emission are stored as attributes."
   ]
  },
  {
   "cell_type": "markdown",
   "id": "ed471d8d-7909-40fa-a9d8-68fb77b8856d",
   "metadata": {},
   "source": [
    "## Transposing\n",
    "\n",
    "To transpose axes, you can use `.transpose` or `.T`. In `xarray` and therefore in PyARPES, you interact with data using named dimensions. As a result, transposing is rarely necessary except to set axis order when plotting."
   ]
  },
  {
   "cell_type": "code",
   "execution_count": null,
   "id": "bc7d6aa5-857b-46e1-86a2-f538408ec1bf",
   "metadata": {},
   "outputs": [],
   "source": [
    "f.transpose(\"eV\", \"phi\").S.plot()  # equivalently, f.T.S.plot()"
   ]
  },
  {
   "cell_type": "markdown",
   "id": "ab5fbf07-4dd4-4b95-970f-b40b779844e9",
   "metadata": {},
   "source": [
    "## Interactive Data Browsing\n",
    "\n",
    "Facilities are included for doing interactive data exploration and analysis both directly in Jupyter, by using holoview via Bokeh. To learn more about interactive analysis, please read the interactive analysis section of the documentation."
   ]
  },
  {
   "cell_type": "code",
   "execution_count": null,
   "id": "435a43bd-e5e7-466a-a64e-51ab8cf14212",
   "metadata": {},
   "outputs": [],
   "source": [
    "f.spectrum.S.show()"
   ]
  },
  {
   "cell_type": "markdown",
   "id": "636a5ee6-bc96-42d6-83e9-69cc99b598fc",
   "metadata": {},
   "source": [
    "## Learning more about data manipulation\n",
    "\n",
    "PyARPES uses the excellent [xarray](https://xarray.pydata.org) to provide a rich \"Wave\"-like data model. For non-spectroscopy related\n",
    "analysis tasks, you should read their documentation."
   ]
  },
  {
   "cell_type": "markdown",
   "id": "8d11cfcb-8b28-4142-9584-53cf6e7dfd6d",
   "metadata": {},
   "source": [
    "### PyARPES philosophy on interactive tools\n",
    "\n",
    "Instead of one large interactive application where you perform analysis, PyARPES has many small interactive utilities which are built for a single purpose. From Ver 4.0.1 (pragmatically, from 4.0), the Qt based interactive tools are depricated. Thus, the following tools cannot be used:\n",
    "\n",
    "1. A data browser: `arpes.plotting.qt_tool`\n",
    "2. A momentum offset browser: `arpes.plotting.qt_ktool.ktool`\n",
    "3. A tool for path selection: `arpes.plotting.basic_tools.path_tool`\n",
    "4. A tool for mask selection: `arpes.plotting.basic_tools.mask_tool`\n",
    "5. A tool to show a slice on a BZ recorded by the spectrometer or scan: `arpes.plotting.bz_tool.bz_tool`\n",
    "\n",
    "and others.\n",
    "\n",
    "Instead, holoviews based tools are prepared as necessary.\n",
    "\n",
    "1. For checking the intensity at the specific position: `arpes.plotting.profile_view`\n",
    "\n",
    "\n",
    "PyARPES prefers simpler specific tools because it makes them easier to write and maintain, and because PyARPES prefers you do as much analysis via the notebook as possible. This makes for better, more reproducible science. That's why I have dropped Qt-based UI tools."
   ]
  },
  {
   "cell_type": "markdown",
   "id": "994b004a-fdff-4883-8a16-d95e4c2d511f",
   "metadata": {},
   "source": [
    "## Exercises\n",
    "\n",
    "### Learning more about `xarray`\n",
    "\n",
    "1. Skim the [data structures guide](https://xarray.pydata.org/en/stable/user-guide/data-structures.html) at the `xarray` docs.\n",
    "2. Open a PyARPES Jupyter cell and print one of the piece of example data with `from arpes.io import example_data; example_data.cut` or similar. Make sure you can understand the correspondence between the [data structures guide](https://xarray.pydata.org/en/stable/user-guide/data-structures.html) and ARPES idioms.\n",
    "\n",
    "\n",
    "### Practicing data selection\n",
    "\n",
    "1. What happens if you select a range backward?\n",
    "2. What happens to attributes and coordinates when you select a single value or range?\n",
    "\n",
    "### Practicing interactive browsing\n",
    "1. Try using `profile_view` to find the projection of the gamma point in `example_data.map`? \n",
    "\n"
   ]
  }
 ],
 "metadata": {
  "kernelspec": {
   "display_name": "Python 3 (ipykernel)",
   "language": "python",
   "name": "python3"
  },
  "language_info": {
   "codemirror_mode": {
    "name": "ipython",
    "version": 3
   },
   "file_extension": ".py",
   "mimetype": "text/x-python",
   "name": "python",
   "nbconvert_exporter": "python",
   "pygments_lexer": "ipython3",
   "version": "3.11.9"
  },
  "widgets": {
   "application/vnd.jupyter.widget-state+json": {
    "state": {},
    "version_major": 2,
    "version_minor": 0
   }
  }
 },
 "nbformat": 4,
 "nbformat_minor": 5
}
