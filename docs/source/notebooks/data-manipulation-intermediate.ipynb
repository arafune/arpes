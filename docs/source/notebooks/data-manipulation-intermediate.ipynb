{
 "cells": [
  {
   "cell_type": "code",
   "execution_count": null,
   "id": "fadf1951-ad24-4193-9faf-1950f3cef440",
   "metadata": {
    "nbsphinx": "hidden",
    "tags": [
     "nbconvert-hide"
    ]
   },
   "outputs": [],
   "source": [
    "\"\"\"nbconvert header.\n",
    "\n",
    "We are just configuring to hide some unnecessary warnings.\n",
    "\"\"\"\n",
    "\n",
    "%matplotlib inline\n",
    "import arpes.config\n",
    "\n",
    "arpes.config.DOCS_BUILD = True"
   ]
  },
  {
   "cell_type": "markdown",
   "id": "a2b80673-6cb5-405b-969f-8c9ad3845395",
   "metadata": {},
   "source": [
    "# Intermediate Data Manipulation"
   ]
  },
  {
   "cell_type": "code",
   "execution_count": null,
   "id": "345a929f-43ee-4c13-8508-b46794beef58",
   "metadata": {},
   "outputs": [],
   "source": [
    "import arpes.config\n",
    "from arpes.io import example_data\n",
    "\n",
    "f = example_data.cut"
   ]
  },
  {
   "cell_type": "markdown",
   "id": "e743168e-40d2-44ef-ad34-b938cb1677b0",
   "metadata": {},
   "source": [
    "## Data rebinning\n",
    "\n",
    "Frequently it makes sense to integrate in a small region around a single value of interest, or to reduce the size of a dataset uniformly along a particular axis of set of axes. Rebinning the data can be used to accomplish both:"
   ]
  },
  {
   "cell_type": "code",
   "execution_count": null,
   "id": "d4ad359e-fb85-452a-b3e3-ca243de17019",
   "metadata": {},
   "outputs": [],
   "source": [
    "from arpes.analysis.general import rebin\n",
    "\n",
    "rebin(f, phi=15).S.plot()"
   ]
  },
  {
   "cell_type": "markdown",
   "id": "06fc5c37-e0a4-4f14-87b3-69dc908be501",
   "metadata": {},
   "source": [
    "Arguments passed into rebin after the first will be matched to dimensions on the input data. In this case, we have requested that every 12 pixels in 'phi' be rebinned into a single pixel. This reduces the size from 240x240 to 240x20. One can also rebin along multiple axes, with different granularities, simultaneously."
   ]
  },
  {
   "cell_type": "markdown",
   "id": "cf8154a7-4d44-4ea9-8393-ba3a0cbd63e6",
   "metadata": {},
   "source": [
    "## Getting help\n",
    "\n",
    "Jupyter makes it convenient to get information about language and library functions, you just put a question mark after the function name. We can do this to see what information PyARPES has annotated onto `rebin` in the code"
   ]
  },
  {
   "cell_type": "code",
   "execution_count": null,
   "id": "36b23428-b0a1-4581-b662-17c208879320",
   "metadata": {},
   "outputs": [],
   "source": [
    "?rebin"
   ]
  },
  {
   "cell_type": "markdown",
   "id": "e1a5bb5c-ce2f-4c14-9eea-1e1868ae1378",
   "metadata": {},
   "source": [
    "## Normalizing along an axis\n",
    "\n",
    "Another common pattern is to normalize data along an axis, so that the total intensity in each frame or slice is equal. This is relatively common in laser-ARPES in combination or as a comparison to normalization by the photocurrent. Another use case is in examining the role of matrix elements in photoemission, or in preparing data to be scaled and plotted on the same axes. `normalize_dim` can be used to normalize along one (second argument `str`) or several (second argument `[str]`) axes:"
   ]
  },
  {
   "cell_type": "code",
   "execution_count": null,
   "id": "f2c72430-7551-4ba1-8ec2-b9444d4cd9ac",
   "metadata": {},
   "outputs": [],
   "source": [
    "from arpes.preparation import normalize_dim\n",
    "\n",
    "# make slices equal intensity at every energy\n",
    "normalize_dim(f.spectrum, \"eV\").plot()"
   ]
  },
  {
   "cell_type": "markdown",
   "id": "ec173d4c-2b37-43b4-a59f-b80db43be8e3",
   "metadata": {},
   "source": [
    "In this case normalizing along the binding energy axis makes the surface state dispersion from room temperature photoemission off $\\text{Bi}_2\\text{Se}_3$ for a substantial energy range above the chemical potential."
   ]
  },
  {
   "cell_type": "markdown",
   "id": "5711b544-bee6-4ad0-9eed-a79e15f3e2b8",
   "metadata": {},
   "source": [
    "## Broadcasting\n",
    "\n",
    "One simple way to achieve background subtraction is to take the mean of the data along a direction known to be a symmetry point, or a point away from dispersive intensity. In general all math operations on `xarray` instances broadcast just as you might expect if you have worked with `numpy`.\n",
    "\n",
    "In particular, this means that if we create an EDC and subtract it from a spectrum, the EDC will be subtracted from every EDC of the spectrum, uniformly across other axes. We can use this to perform a simple subtraction, here of the EDC at the Gamma point of a $\\text{Bi}_2\\text{Se}_3$ cut."
   ]
  },
  {
   "cell_type": "code",
   "execution_count": null,
   "id": "1d46052f-713d-44a9-9e3d-d42a6386ced7",
   "metadata": {},
   "outputs": [],
   "source": [
    "(f - f.sel(phi=slice(0.42, 0.44)).mean(\"phi\")).S.plot()"
   ]
  },
  {
   "cell_type": "markdown",
   "id": "557149ec-be57-4afb-a135-aae9c9757249",
   "metadata": {},
   "source": [
    "## Smoothing\n",
    "\n",
    "There are a number of smoothing facilities included, that are essentially wrappers around those provided in `scipy.ndimage` and `scipy.signal`. More details and other kernels can be found in `arpes.analysis.filters`. Here, we smooth a cut, only along the angular axis, against a Gaussian kernel with a width of 40 mrads."
   ]
  },
  {
   "cell_type": "code",
   "execution_count": null,
   "id": "7e3151d2-f148-40ac-9dda-969755597852",
   "metadata": {},
   "outputs": [],
   "source": [
    "from arpes.analysis.filters import gaussian_filter_arr\n",
    "\n",
    "gaussian_filter_arr(f.spectrum, sigma={\"phi\": 0.04}).S.plot()"
   ]
  },
  {
   "cell_type": "markdown",
   "id": "044f7194-f9e9-4a27-b46e-17e8cfb3edf7",
   "metadata": {},
   "source": [
    "## Derivatives and Minimum Gradient/Maximum curvature\n",
    "\n",
    "Facilities for taking derivatives along specified axes can be found in `arpes.analysis.derivative`. Additionally, the [minimum gradient method](https://arxiv.org/abs/1612.07880)  and [maximum curvature](https://doi.org/10.1063/1.3585113) is supported.\n",
    "\n",
    "Here we illustrate the use of the minimum gradient after smoothing due to small statistics on sample data:"
   ]
  },
  {
   "cell_type": "code",
   "execution_count": null,
   "id": "17994836-af6b-46ae-b28e-07882a5f6ce1",
   "metadata": {},
   "outputs": [],
   "source": [
    "from arpes.analysis.derivative import minimum_gradient\n",
    "\n",
    "minimum_gradient(gaussian_filter_arr(f.spectrum, sigma={\"phi\": 0.01, \"eV\": 0.01})).plot(\n",
    "    vmin=0, vmax=100,\n",
    ")"
   ]
  },
  {
   "cell_type": "markdown",
   "id": "45c167bc-5dc7-4606-9c00-0cd24e83884c",
   "metadata": {},
   "source": [
    "This way shows the same result but is convenient in some case."
   ]
  },
  {
   "cell_type": "code",
   "execution_count": null,
   "id": "2f09d4e5-dd96-4be6-82bb-18b8f6218a02",
   "metadata": {},
   "outputs": [],
   "source": [
    "import functools\n",
    "\n",
    "smooth_fn = functools.partial(gaussian_filter_arr, sigma={\"phi\": 0.01, \"eV\": 0.01})\n",
    "minimum_gradient(f.spectrum, smooth_fn=smooth_fn).plot(vmin=0, vmax=100)"
   ]
  },
  {
   "cell_type": "markdown",
   "id": "dabb0576-040a-44ad-a11e-83ff0d08d870",
   "metadata": {},
   "source": [
    "THe Maximum curvature method has two types: 1D and 2D.\n",
    "\n",
    "These two below are the example of 1D maximum curvature"
   ]
  },
  {
   "cell_type": "code",
   "execution_count": null,
   "id": "5fe7fb1a-785f-4ba9-95ff-20025f6197dc",
   "metadata": {},
   "outputs": [],
   "source": [
    "from arpes.analysis.derivative import curvature1d, curvature2d\n",
    "\n",
    "curvature1d(gaussian_filter_arr(f.spectrum, sigma={\"phi\": 0.01, \"eV\": 0.01}),\n",
    "            dim=\"phi\", alpha=0.01).plot()"
   ]
  },
  {
   "cell_type": "code",
   "execution_count": null,
   "id": "8578803e-5a94-4d3b-8ba2-ed46f1db3bc8",
   "metadata": {},
   "outputs": [],
   "source": [
    "curvature1d(f.spectrum, dim=\"eV\", alpha=0.1, smooth_fn=smooth_fn).plot()"
   ]
  },
  {
   "cell_type": "markdown",
   "id": "6e6130fb-35a6-4ef2-92b6-3df2f131eb4e",
   "metadata": {},
   "source": [
    "The below is the example of 2D maximum curvature"
   ]
  },
  {
   "cell_type": "code",
   "execution_count": null,
   "id": "885464ba-9e62-42d2-b96d-1dda06d2f909",
   "metadata": {},
   "outputs": [],
   "source": [
    "curvature2d(f.spectrum, dims=(\"phi\", \"eV\"), alpha=0.1, weight2d = 1, smooth_fn=smooth_fn).plot()"
   ]
  },
  {
   "cell_type": "markdown",
   "id": "6f227fc8-e169-4b41-b68c-e0570b5d2b72",
   "metadata": {},
   "source": [
    "When `weight2d` << 0, the output is essentially same as curvature1d along `eV`. "
   ]
  },
  {
   "cell_type": "code",
   "execution_count": null,
   "id": "1456ca55-e2a7-4941-9e09-e433a5af6536",
   "metadata": {},
   "outputs": [],
   "source": [
    "curvature2d(f.spectrum, dims=(\"phi\", \"eV\"), alpha=0.1, weight2d = -10, smooth_fn=smooth_fn).plot()"
   ]
  },
  {
   "cell_type": "markdown",
   "id": "cba447ad-b916-4b37-91e8-1379535c3ad8",
   "metadata": {},
   "source": [
    "And when `weight2d` >> 0, the output is essentially same as curvature1d along `phi`."
   ]
  },
  {
   "cell_type": "code",
   "execution_count": null,
   "id": "cef10b1e-4a68-4daa-87ac-f02fcab1ae3b",
   "metadata": {},
   "outputs": [],
   "source": [
    "curvature2d(f.spectrum, dims=(\"phi\", \"eV\"), alpha=0.1, weight2d = 10, smooth_fn=smooth_fn).plot()"
   ]
  },
  {
   "cell_type": "code",
   "execution_count": null,
   "id": "3f7b6d49-ef68-420f-843e-206b088159c5",
   "metadata": {},
   "outputs": [],
   "source": []
  }
 ],
 "metadata": {
  "kernelspec": {
   "display_name": "Python 3 (ipykernel)",
   "language": "python",
   "name": "python3"
  },
  "language_info": {
   "codemirror_mode": {
    "name": "ipython",
    "version": 3
   },
   "file_extension": ".py",
   "mimetype": "text/x-python",
   "name": "python",
   "nbconvert_exporter": "python",
   "pygments_lexer": "ipython3",
   "version": "3.11.9"
  },
  "widgets": {
   "application/vnd.jupyter.widget-state+json": {
    "state": {},
    "version_major": 2,
    "version_minor": 0
   }
  }
 },
 "nbformat": 4,
 "nbformat_minor": 5
}
